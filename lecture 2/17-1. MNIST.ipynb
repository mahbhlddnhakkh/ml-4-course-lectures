{
 "cells": [
  {
   "cell_type": "markdown",
   "metadata": {
    "id": "hoZJLiyiFKQ9"
   },
   "source": [
    "## Download the required libraries\n",
    "## Загружаем нужные библиотеки:\n"
   ]
  },
  {
   "cell_type": "code",
   "execution_count": 29,
   "metadata": {
    "executionInfo": {
     "elapsed": 2038,
     "status": "ok",
     "timestamp": 1605530612927,
     "user": {
      "displayName": "Nikolai Zolotykh",
      "photoUrl": "https://lh3.googleusercontent.com/a-/AOh14GivHxEpGqBn7aTVrjpJVWFEjFcBANPv_0YmBHMszQ=s64",
      "userId": "03606609416015113398"
     },
     "user_tz": -180
    },
    "id": "NGHwmQm1FKRB"
   },
   "outputs": [],
   "source": [
    "import numpy as np\n",
    "import matplotlib.pyplot as plt\n",
    "%matplotlib inline"
   ]
  },
  {
   "cell_type": "markdown",
   "metadata": {
    "id": "FtK5lhmgFKRG"
   },
   "source": [
    "### Download the dataset:\n",
    "\n",
    "### Загружаем данные:"
   ]
  },
  {
   "cell_type": "code",
   "execution_count": 2,
   "metadata": {
    "executionInfo": {
     "elapsed": 33117,
     "status": "ok",
     "timestamp": 1605530650282,
     "user": {
      "displayName": "Nikolai Zolotykh",
      "photoUrl": "https://lh3.googleusercontent.com/a-/AOh14GivHxEpGqBn7aTVrjpJVWFEjFcBANPv_0YmBHMszQ=s64",
      "userId": "03606609416015113398"
     },
     "user_tz": -180
    },
    "id": "SMmVDl6GFKRG"
   },
   "outputs": [],
   "source": [
    "from sklearn.datasets import fetch_openml\n",
    "\n",
    "# Загружаем данные из https://www.openml.org/d/554\n",
    "X, y = fetch_openml('mnist_784', return_X_y = True, as_frame = False)"
   ]
  },
  {
   "cell_type": "code",
   "execution_count": 3,
   "metadata": {
    "colab": {
     "base_uri": "https://localhost:8080/"
    },
    "executionInfo": {
     "elapsed": 1207,
     "status": "ok",
     "timestamp": 1605531328739,
     "user": {
      "displayName": "Nikolai Zolotykh",
      "photoUrl": "https://lh3.googleusercontent.com/a-/AOh14GivHxEpGqBn7aTVrjpJVWFEjFcBANPv_0YmBHMszQ=s64",
      "userId": "03606609416015113398"
     },
     "user_tz": -180
    },
    "id": "ybO8NocuFKRM",
    "outputId": "013f36e8-d18b-4e02-f0b8-164d398d497d"
   },
   "outputs": [
    {
     "data": {
      "text/plain": [
       "(70000, 784)"
      ]
     },
     "execution_count": 3,
     "metadata": {},
     "output_type": "execute_result"
    }
   ],
   "source": [
    "N, d = X.shape\n",
    "N, d"
   ]
  },
  {
   "cell_type": "code",
   "execution_count": 4,
   "metadata": {},
   "outputs": [
    {
     "data": {
      "text/plain": [
       "784"
      ]
     },
     "execution_count": 4,
     "metadata": {},
     "output_type": "execute_result"
    }
   ],
   "source": [
    "28*28"
   ]
  },
  {
   "cell_type": "code",
   "execution_count": 5,
   "metadata": {},
   "outputs": [
    {
     "data": {
      "text/plain": [
       "array(['5', '0', '4', ..., '4', '5', '6'], dtype=object)"
      ]
     },
     "execution_count": 5,
     "metadata": {},
     "output_type": "execute_result"
    }
   ],
   "source": [
    "y"
   ]
  },
  {
   "cell_type": "code",
   "execution_count": 4,
   "metadata": {},
   "outputs": [
    {
     "data": {
      "text/plain": [
       "array([5, 0, 4, ..., 4, 5, 6], dtype=int8)"
      ]
     },
     "execution_count": 4,
     "metadata": {},
     "output_type": "execute_result"
    }
   ],
   "source": [
    "y = y.astype('int8')\n",
    "y"
   ]
  },
  {
   "cell_type": "code",
   "execution_count": 7,
   "metadata": {},
   "outputs": [
    {
     "data": {
      "text/plain": [
       "array([  0.,   0.,   0.,   0.,   0.,   0.,   0.,   0.,   0.,   0.,   0.,\n",
       "         0.,   0.,   0.,   0.,   0.,   0.,   0.,   0.,   0.,   0.,   0.,\n",
       "         0.,   0.,   0.,   0.,   0.,   0.,   0.,   0.,   0.,   0.,   0.,\n",
       "         0.,   0.,   0.,   0.,   0.,   0.,   0.,   0.,   0.,   0.,   0.,\n",
       "         0.,   0.,   0.,   0.,   0.,   0.,   0.,   0.,   0.,   0.,   0.,\n",
       "         0.,   0.,   0.,   0.,   0.,   0.,   0.,   0.,   0.,   0.,   0.,\n",
       "         0.,   0.,   0.,   0.,   0.,   0.,   0.,   0.,   0.,   0.,   0.,\n",
       "         0.,   0.,   0.,   0.,   0.,   0.,   0.,   0.,   0.,   0.,   0.,\n",
       "         0.,   0.,   0.,   0.,   0.,   0.,   0.,   0.,   0.,   0.,   0.,\n",
       "         0.,   0.,   0.,   0.,   0.,   0.,   0.,   0.,   0.,   0.,   0.,\n",
       "         0.,   0.,   0.,   0.,   0.,   0.,   0.,   0.,   0.,   0.,   0.,\n",
       "         0.,   0.,   0.,   0.,   0.,   0.,   0.,   0.,   0.,   0.,   0.,\n",
       "         0.,   0.,   0.,   0.,   0.,   0.,   0.,   0.,   0.,   0.,   0.,\n",
       "         0.,   0.,   0.,   0.,   0.,   0.,   0.,   0.,   0.,   0.,   0.,\n",
       "         0.,   0.,   0.,   0.,   0.,   0.,   0.,   0.,   0.,   0.,   0.,\n",
       "         0.,   0.,   0.,   0.,   0.,   0.,   0.,   0.,   0.,   0.,   0.,\n",
       "         0.,   0.,   0.,   0.,   0.,   0.,   0.,   0.,   0.,   0.,   0.,\n",
       "         0.,   0.,   0.,   0.,   0.,   0.,   0.,   0.,   0.,   0.,   0.,\n",
       "         0.,   0.,   0.,   0.,   0.,   0.,   0.,   0.,   0.,   0.,   0.,\n",
       "         1.,  26., 111., 195., 230.,  30.,   0.,   0.,   0.,   0.,   0.,\n",
       "         0.,   0.,   0.,   0.,   0.,   0.,   0.,   0.,   0.,   0.,   0.,\n",
       "         0.,   0.,   0.,   0.,  28., 107., 195., 254., 254., 254., 244.,\n",
       "        20.,   0.,   0.,   0.,   0.,   0.,   0.,   0.,   0.,   0.,   0.,\n",
       "         0.,   0.,   0.,   0.,   0.,   0.,   0.,   0.,  46., 167., 248.,\n",
       "       254., 222., 146., 150., 254., 174.,   0.,   0.,   0.,   0.,   0.,\n",
       "         0.,   0.,   0.,   0.,   0.,   0.,   0.,   0.,   0.,   0.,   0.,\n",
       "         0.,  65., 223., 246., 254., 153.,  61.,  10.,   0.,  48., 254.,\n",
       "       129.,   0.,   0.,   0.,   0.,   0.,   0.,   0.,   0.,   0.,   0.,\n",
       "         0.,   0.,   0.,   0.,   0.,   0.,   0.,  85., 175., 164.,  80.,\n",
       "         2.,   0.,   0.,   0.,  48., 254., 120.,   0.,   0.,   0.,   0.,\n",
       "         0.,   0.,   0.,   0.,   0.,   0.,   0.,   0.,   0.,   0.,   0.,\n",
       "         0.,   0.,   0.,   0.,   0.,   0.,   0.,   0.,   0.,   0., 182.,\n",
       "       254.,  16.,   0.,   0.,   0.,   0.,   0.,   0.,   0.,   0.,   0.,\n",
       "         0.,   0.,   0.,   0.,   0.,   0.,   0.,   0.,   0.,   0.,   0.,\n",
       "         0.,   0.,   0.,   0.,   0., 207., 254.,  16.,   0.,   0.,   0.,\n",
       "         0.,   0.,   0.,   0.,   0.,   0.,   0.,   0.,   0.,   0.,   0.,\n",
       "         0.,   0.,   0.,   0.,   0.,   0.,   0.,   0.,   0.,   0.,   0.,\n",
       "       207., 202.,   3.,   0.,   0.,   0.,   0.,   0.,   0.,   0.,   0.,\n",
       "         0.,   0.,   0.,   0.,   0.,   0.,   0.,   0.,   0.,   0.,   0.,\n",
       "         0.,   0.,   0.,   0.,   0.,  28., 248., 170.,   0.,   0.,   0.,\n",
       "         0.,   0.,   0.,   0.,   0.,   0.,   0.,   0.,   0.,   0.,   0.,\n",
       "         0.,   0.,   0.,   0.,   0.,   0.,   0.,   0.,   0.,   0.,   0.,\n",
       "       107., 254.,  61.,   0.,   0.,   0.,   0.,   0.,   0.,   0.,   0.,\n",
       "         0.,   0.,   0.,   0.,   0.,   0.,   0.,   0.,   0.,   0.,   0.,\n",
       "         0.,   0.,   0.,   0.,   0.,   0., 166., 252.,  30.,   0.,   0.,\n",
       "         0.,   0.,   0.,   0.,   0.,   0.,   0.,   0.,   0.,   0.,   0.,\n",
       "         0.,   0.,   0.,   0.,   0.,   0.,   0.,   0.,   0.,   0.,   0.,\n",
       "         0., 191., 206.,   0.,   0.,   0.,   0.,   0.,   0.,   0.,   0.,\n",
       "         0.,   0.,   0.,   0.,   0.,   0.,   0.,   0.,   0.,   0.,   0.,\n",
       "         0.,   0.,   0.,   0.,   0.,   0.,   0., 191., 206.,   0.,   0.,\n",
       "         0.,   0.,   0.,   0.,   0.,   0.,   0.,   0.,   0.,   0.,   0.,\n",
       "         0.,   0.,   0.,   0.,   0.,   0.,   0.,   0.,   0.,   0.,   0.,\n",
       "         0.,  14., 246., 186.,   0.,   0.,   0.,   0.,   0.,   0.,   0.,\n",
       "         0.,   0.,   0.,   0.,   0.,   0.,   0.,   0.,   0.,   0.,   0.,\n",
       "         0.,   0.,   0.,   0.,   0.,   0.,   0.,  91., 254.,  77.,   0.,\n",
       "         0.,   0.,   0.,   0.,   0.,   0.,   0.,   0.,   0.,   0.,   0.,\n",
       "         0.,   0.,   0.,   0.,   0.,   0.,   0.,   0.,   0.,   0.,   0.,\n",
       "         0.,   0., 175., 254.,  48.,   0.,   0.,   0.,   0.,   0.,   0.,\n",
       "         0.,   0.,   0.,   0.,   0.,   0.,   0.,   0.,   0.,   0.,   0.,\n",
       "         0.,   0.,   0.,   0.,   0.,   0.,   0.,   0., 175., 240.,  27.,\n",
       "         0.,   0.,   0.,   0.,   0.,   0.,   0.,   0.,   0.,   0.,   0.,\n",
       "         0.,   0.,   0.,   0.,   0.,   0.,   0.,   0.,   0.,   0.,   0.,\n",
       "         0.,   0.,   0., 215., 222.,   0.,   0.,   0.,   0.,   0.,   0.,\n",
       "         0.,   0.,   0.,   0.,   0.,   0.,   0.,   0.,   0.,   0.,   0.,\n",
       "         0.,   0.,   0.,   0.,   0.,   0.,   0.,   0., 115., 255., 152.,\n",
       "         0.,   0.,   0.,   0.,   0.,   0.,   0.,   0.,   0.,   0.,   0.,\n",
       "         0.,   0.,   0.,   0.,   0.,   0.,   0.,   0.,   0.,   0.,   0.,\n",
       "         0.,   0.,   0., 134., 255.,  68.,   0.,   0.,   0.,   0.,   0.,\n",
       "         0.,   0.,   0.,   0.,   0.,   0.,   0.,   0.,   0.,   0.,   0.,\n",
       "         0.,   0.,   0.,   0.,   0.,   0.,   0.,   0.,   0.,   0.,   0.,\n",
       "         0.,   0.,   0.,   0.,   0.,   0.,   0.,   0.,   0.,   0.,   0.,\n",
       "         0.,   0.,   0.])"
      ]
     },
     "execution_count": 7,
     "metadata": {},
     "output_type": "execute_result"
    }
   ],
   "source": [
    "X[42,]"
   ]
  },
  {
   "cell_type": "markdown",
   "metadata": {
    "id": "cS5wjfZRFKRS"
   },
   "source": [
    "### Let's draw the images:\n",
    "### Посмотрим на некоторые изображения:"
   ]
  },
  {
   "cell_type": "code",
   "execution_count": 5,
   "metadata": {
    "executionInfo": {
     "elapsed": 939,
     "status": "ok",
     "timestamp": 1605531336479,
     "user": {
      "displayName": "Nikolai Zolotykh",
      "photoUrl": "https://lh3.googleusercontent.com/a-/AOh14GivHxEpGqBn7aTVrjpJVWFEjFcBANPv_0YmBHMszQ=s64",
      "userId": "03606609416015113398"
     },
     "user_tz": -180
    },
    "id": "oyzZvbuMFKRS"
   },
   "outputs": [],
   "source": [
    "def draw_digit(Img, digit_true, digit_pred = ''):\n",
    "    plt.xticks([])\n",
    "    plt.yticks([])\n",
    "    plt.imshow(np.reshape(Img, (28, 28)))\n",
    "    plt.text(0, 27, str(digit_true), color = 'b')\n",
    "    plt.text(0, 1, str(digit_pred), color = 'r')\n",
    "    plt.set_cmap('binary')    \n",
    "    #plt.set_cmap('gray')    "
   ]
  },
  {
   "cell_type": "code",
   "execution_count": 9,
   "metadata": {},
   "outputs": [
    {
     "data": {
      "image/png": "[encoded data removed]",
      "text/plain": [
       "<Figure size 432x288 with 1 Axes>"
      ]
     },
     "metadata": {},
     "output_type": "display_data"
    }
   ],
   "source": [
    "draw_digit(X[1, :], y[1])"
   ]
  },
  {
   "cell_type": "code",
   "execution_count": 10,
   "metadata": {
    "colab": {
     "base_uri": "https://localhost:8080/",
     "height": 361
    },
    "executionInfo": {
     "elapsed": 3740,
     "status": "ok",
     "timestamp": 1605531346405,
     "user": {
      "displayName": "Nikolai Zolotykh",
      "photoUrl": "https://lh3.googleusercontent.com/a-/AOh14GivHxEpGqBn7aTVrjpJVWFEjFcBANPv_0YmBHMszQ=s64",
      "userId": "03606609416015113398"
     },
     "user_tz": -180
    },
    "id": "5tUgGQvuFKRZ",
    "outputId": "e7016750-cbf1-463c-e997-535f8d1b0f33"
   },
   "outputs": [
    {
     "data": {
      "image/png": "[encoded data removed]",
      "text/plain": [
       "<Figure size 720x432 with 60 Axes>"
      ]
     },
     "metadata": {},
     "output_type": "display_data"
    }
   ],
   "source": [
    "plt.figure(figsize = (10, 6))\n",
    "for i_subplot in range(60):\n",
    "    plt.subplot(6, 10, i_subplot + 1)\n",
    "    draw_digit(X[i_subplot, :], y[i_subplot])"
   ]
  },
  {
   "cell_type": "markdown",
   "metadata": {
    "id": "65lgypslFKRb"
   },
   "source": [
    "### Split the dataset onto a train test and a test set\n",
    "\n",
    "### Разбиваем данные на обучающую и тестовую выборки\n"
   ]
  },
  {
   "cell_type": "code",
   "execution_count": 7,
   "metadata": {
    "executionInfo": {
     "elapsed": 1064,
     "status": "ok",
     "timestamp": 1605531351404,
     "user": {
      "displayName": "Nikolai Zolotykh",
      "photoUrl": "https://lh3.googleusercontent.com/a-/AOh14GivHxEpGqBn7aTVrjpJVWFEjFcBANPv_0YmBHMszQ=s64",
      "userId": "03606609416015113398"
     },
     "user_tz": -180
    },
    "id": "qikty42dFKRc"
   },
   "outputs": [],
   "source": [
    "N_test = 10000\n",
    "N_train = X.shape[0] - N_test"
   ]
  },
  {
   "cell_type": "code",
   "execution_count": 8,
   "metadata": {},
   "outputs": [
    {
     "data": {
      "text/plain": [
       "(10000, 60000)"
      ]
     },
     "execution_count": 8,
     "metadata": {},
     "output_type": "execute_result"
    }
   ],
   "source": [
    "N_test, N_train"
   ]
  },
  {
   "cell_type": "markdown",
   "metadata": {
    "id": "jGuvI1bYFKRf"
   },
   "source": [
    "Некоторые методы требуют для обучения много времени. Чтобы долго не ждать, возьмем не все данные, а только часть:"
   ]
  },
  {
   "cell_type": "code",
   "execution_count": 9,
   "metadata": {
    "id": "b0CORqY-FKRg"
   },
   "outputs": [],
   "source": [
    "N_test = 1000\n",
    "N_train = 6000"
   ]
  },
  {
   "cell_type": "code",
   "execution_count": 10,
   "metadata": {
    "executionInfo": {
     "elapsed": 1762,
     "status": "ok",
     "timestamp": 1605531358928,
     "user": {
      "displayName": "Nikolai Zolotykh",
      "photoUrl": "https://lh3.googleusercontent.com/a-/AOh14GivHxEpGqBn7aTVrjpJVWFEjFcBANPv_0YmBHMszQ=s64",
      "userId": "03606609416015113398"
     },
     "user_tz": -180
    },
    "id": "XXz1fd4ZFKRi"
   },
   "outputs": [],
   "source": [
    "from sklearn.model_selection import train_test_split\n",
    "X_train, X_test, y_train, y_test = train_test_split(X, y, \n",
    "                                                    train_size = N_train, test_size = N_test, \n",
    "                                                    stratify = y, random_state = 42)"
   ]
  },
  {
   "cell_type": "code",
   "execution_count": 11,
   "metadata": {
    "colab": {
     "base_uri": "https://localhost:8080/"
    },
    "executionInfo": {
     "elapsed": 941,
     "status": "ok",
     "timestamp": 1605531361628,
     "user": {
      "displayName": "Nikolai Zolotykh",
      "photoUrl": "https://lh3.googleusercontent.com/a-/AOh14GivHxEpGqBn7aTVrjpJVWFEjFcBANPv_0YmBHMszQ=s64",
      "userId": "03606609416015113398"
     },
     "user_tz": -180
    },
    "id": "Gec0_otsFKRl",
    "outputId": "60cd047a-7482-4730-b925-0761dcd78549"
   },
   "outputs": [
    {
     "data": {
      "text/plain": [
       "((6000, 784), (1000, 784))"
      ]
     },
     "execution_count": 11,
     "metadata": {},
     "output_type": "execute_result"
    }
   ],
   "source": [
    "X_train.shape, X_test.shape"
   ]
  },
  {
   "cell_type": "markdown",
   "metadata": {
    "id": "W_0EST1XFKRo"
   },
   "source": [
    "### Let's train the (KNN) k-Nearest Neighbourhood model\n",
    "### Обучаем классификатор kNN\n",
    "\n",
    "*Евклидово расстояние* ($\\ell_2$-метрика):\n",
    "$$\n",
    "\\rho_2(x,x') = \\sqrt{\\sum_{j=1}^d (x_j - x_j')^2}\n",
    "$$\n",
    "\n",
    "*Манхеттеновское расстояние* ($\\ell_1$-метрика):\n",
    "$$\n",
    "\\rho_1(x,x') = \\sum_{j=1}^d |x_j - x_j'|\n",
    "$$\n",
    "\n",
    "\n",
    "*Чебышевское расстояние* ($\\ell_{\\infty}$-метрика):\n",
    "$$\n",
    "\\rho_{\\infty}(x,x') = \\max_{j=1,\\dots,d} |x_j - x_j'|\n",
    "$$\n",
    "\n",
    "Приведенные выше метрики являются частным случаем *расстояния Минковского*:\n",
    "$$\n",
    "\\rho_p(x,x') = \\left(\\sum_{j=1}^d |x_j - x_j'|^p\\right)^{1/p} \\qquad (p\\ge 1)\n",
    "$$\n"
   ]
  },
  {
   "cell_type": "code",
   "execution_count": 40,
   "metadata": {
    "colab": {
     "base_uri": "https://localhost:8080/"
    },
    "executionInfo": {
     "elapsed": 19811,
     "status": "ok",
     "timestamp": 1605531387954,
     "user": {
      "displayName": "Nikolai Zolotykh",
      "photoUrl": "https://lh3.googleusercontent.com/a-/AOh14GivHxEpGqBn7aTVrjpJVWFEjFcBANPv_0YmBHMszQ=s64",
      "userId": "03606609416015113398"
     },
     "user_tz": -180
    },
    "id": "C3RCW0ffFKRo",
    "outputId": "89a3ddfa-0042-4f04-c8e1-905a1b86b624"
   },
   "outputs": [],
   "source": [
    "from sklearn.neighbors import KNeighborsClassifier\n",
    "scores = []\n",
    "n_neighbors_max = 151\n",
    "for j in range(1, 3):\n",
    "    scores.append([])\n",
    "    for i in range(1, n_neighbors_max):\n",
    "        model = KNeighborsClassifier(n_neighbors=i, p=j)\n",
    "        model.fit(X_train, y_train)\n",
    "        scores[j-1].append(model.score(X_test, y_test))\n",
    "#model = KNeighborsClassifier(n_neighbors=4, p=1)\n",
    "#model.fit(X_train, y_train)"
   ]
  },
  {
   "cell_type": "code",
   "execution_count": 39,
   "metadata": {},
   "outputs": [
    {
     "data": {
      "text/html": [
       "<style>#sk-container-id-2 {\n",
       "  /* Definition of color scheme common for light and dark mode */\n",
       "  --sklearn-color-text: black;\n",
       "  --sklearn-color-line: gray;\n",
       "  /* Definition of color scheme for unfitted estimators */\n",
       "  --sklearn-color-unfitted-level-0: #fff5e6;\n",
       "  --sklearn-color-unfitted-level-1: #f6e4d2;\n",
       "  --sklearn-color-unfitted-level-2: #ffe0b3;\n",
       "  --sklearn-color-unfitted-level-3: chocolate;\n",
       "  /* Definition of color scheme for fitted estimators */\n",
       "  --sklearn-color-fitted-level-0: #f0f8ff;\n",
       "  --sklearn-color-fitted-level-1: #d4ebff;\n",
       "  --sklearn-color-fitted-level-2: #b3dbfd;\n",
       "  --sklearn-color-fitted-level-3: cornflowerblue;\n",
       "\n",
       "  /* Specific color for light theme */\n",
       "  --sklearn-color-text-on-default-background: var(--sg-text-color, var(--theme-code-foreground, var(--jp-content-font-color1, black)));\n",
       "  --sklearn-color-background: var(--sg-background-color, var(--theme-background, var(--jp-layout-color0, white)));\n",
       "  --sklearn-color-border-box: var(--sg-text-color, var(--theme-code-foreground, var(--jp-content-font-color1, black)));\n",
       "  --sklearn-color-icon: #696969;\n",
       "\n",
       "  @media (prefers-color-scheme: dark) {\n",
       "    /* Redefinition of color scheme for dark theme */\n",
       "    --sklearn-color-text-on-default-background: var(--sg-text-color, var(--theme-code-foreground, var(--jp-content-font-color1, white)));\n",
       "    --sklearn-color-background: var(--sg-background-color, var(--theme-background, var(--jp-layout-color0, #111)));\n",
       "    --sklearn-color-border-box: var(--sg-text-color, var(--theme-code-foreground, var(--jp-content-font-color1, white)));\n",
       "    --sklearn-color-icon: #878787;\n",
       "  }\n",
       "}\n",
       "\n",
       "#sk-container-id-2 {\n",
       "  color: var(--sklearn-color-text);\n",
       "}\n",
       "\n",
       "#sk-container-id-2 pre {\n",
       "  padding: 0;\n",
       "}\n",
       "\n",
       "#sk-container-id-2 input.sk-hidden--visually {\n",
       "  border: 0;\n",
       "  clip: rect(1px 1px 1px 1px);\n",
       "  clip: rect(1px, 1px, 1px, 1px);\n",
       "  height: 1px;\n",
       "  margin: -1px;\n",
       "  overflow: hidden;\n",
       "  padding: 0;\n",
       "  position: absolute;\n",
       "  width: 1px;\n",
       "}\n",
       "\n",
       "#sk-container-id-2 div.sk-dashed-wrapped {\n",
       "  border: 1px dashed var(--sklearn-color-line);\n",
       "  margin: 0 0.4em 0.5em 0.4em;\n",
       "  box-sizing: border-box;\n",
       "  padding-bottom: 0.4em;\n",
       "  background-color: var(--sklearn-color-background);\n",
       "}\n",
       "\n",
       "#sk-container-id-2 div.sk-container {\n",
       "  /* jupyter's `normalize.less` sets `[hidden] { display: none; }`\n",
       "     but bootstrap.min.css set `[hidden] { display: none !important; }`\n",
       "     so we also need the `!important` here to be able to override the\n",
       "     default hidden behavior on the sphinx rendered scikit-learn.org.\n",
       "     See: https://github.com/scikit-learn/scikit-learn/issues/21755 */\n",
       "  display: inline-block !important;\n",
       "  position: relative;\n",
       "}\n",
       "\n",
       "#sk-container-id-2 div.sk-text-repr-fallback {\n",
       "  display: none;\n",
       "}\n",
       "\n",
       "div.sk-parallel-item,\n",
       "div.sk-serial,\n",
       "div.sk-item {\n",
       "  /* draw centered vertical line to link estimators */\n",
       "  background-image: linear-gradient(var(--sklearn-color-text-on-default-background), var(--sklearn-color-text-on-default-background));\n",
       "  background-size: 2px 100%;\n",
       "  background-repeat: no-repeat;\n",
       "  background-position: center center;\n",
       "}\n",
       "\n",
       "/* Parallel-specific style estimator block */\n",
       "\n",
       "#sk-container-id-2 div.sk-parallel-item::after {\n",
       "  content: \"\";\n",
       "  width: 100%;\n",
       "  border-bottom: 2px solid var(--sklearn-color-text-on-default-background);\n",
       "  flex-grow: 1;\n",
       "}\n",
       "\n",
       "#sk-container-id-2 div.sk-parallel {\n",
       "  display: flex;\n",
       "  align-items: stretch;\n",
       "  justify-content: center;\n",
       "  background-color: var(--sklearn-color-background);\n",
       "  position: relative;\n",
       "}\n",
       "\n",
       "#sk-container-id-2 div.sk-parallel-item {\n",
       "  display: flex;\n",
       "  flex-direction: column;\n",
       "}\n",
       "\n",
       "#sk-container-id-2 div.sk-parallel-item:first-child::after {\n",
       "  align-self: flex-end;\n",
       "  width: 50%;\n",
       "}\n",
       "\n",
       "#sk-container-id-2 div.sk-parallel-item:last-child::after {\n",
       "  align-self: flex-start;\n",
       "  width: 50%;\n",
       "}\n",
       "\n",
       "#sk-container-id-2 div.sk-parallel-item:only-child::after {\n",
       "  width: 0;\n",
       "}\n",
       "\n",
       "/* Serial-specific style estimator block */\n",
       "\n",
       "#sk-container-id-2 div.sk-serial {\n",
       "  display: flex;\n",
       "  flex-direction: column;\n",
       "  align-items: center;\n",
       "  background-color: var(--sklearn-color-background);\n",
       "  padding-right: 1em;\n",
       "  padding-left: 1em;\n",
       "}\n",
       "\n",
       "\n",
       "/* Toggleable style: style used for estimator/Pipeline/ColumnTransformer box that is\n",
       "clickable and can be expanded/collapsed.\n",
       "- Pipeline and ColumnTransformer use this feature and define the default style\n",
       "- Estimators will overwrite some part of the style using the `sk-estimator` class\n",
       "*/\n",
       "\n",
       "/* Pipeline and ColumnTransformer style (default) */\n",
       "\n",
       "#sk-container-id-2 div.sk-toggleable {\n",
       "  /* Default theme specific background. It is overwritten whether we have a\n",
       "  specific estimator or a Pipeline/ColumnTransformer */\n",
       "  background-color: var(--sklearn-color-background);\n",
       "}\n",
       "\n",
       "/* Toggleable label */\n",
       "#sk-container-id-2 label.sk-toggleable__label {\n",
       "  cursor: pointer;\n",
       "  display: block;\n",
       "  width: 100%;\n",
       "  margin-bottom: 0;\n",
       "  padding: 0.5em;\n",
       "  box-sizing: border-box;\n",
       "  text-align: center;\n",
       "}\n",
       "\n",
       "#sk-container-id-2 label.sk-toggleable__label-arrow:before {\n",
       "  /* Arrow on the left of the label */\n",
       "  content: \"▸\";\n",
       "  float: left;\n",
       "  margin-right: 0.25em;\n",
       "  color: var(--sklearn-color-icon);\n",
       "}\n",
       "\n",
       "#sk-container-id-2 label.sk-toggleable__label-arrow:hover:before {\n",
       "  color: var(--sklearn-color-text);\n",
       "}\n",
       "\n",
       "/* Toggleable content - dropdown */\n",
       "\n",
       "#sk-container-id-2 div.sk-toggleable__content {\n",
       "  max-height: 0;\n",
       "  max-width: 0;\n",
       "  overflow: hidden;\n",
       "  text-align: left;\n",
       "  /* unfitted */\n",
       "  background-color: var(--sklearn-color-unfitted-level-0);\n",
       "}\n",
       "\n",
       "#sk-container-id-2 div.sk-toggleable__content.fitted {\n",
       "  /* fitted */\n",
       "  background-color: var(--sklearn-color-fitted-level-0);\n",
       "}\n",
       "\n",
       "#sk-container-id-2 div.sk-toggleable__content pre {\n",
       "  margin: 0.2em;\n",
       "  border-radius: 0.25em;\n",
       "  color: var(--sklearn-color-text);\n",
       "  /* unfitted */\n",
       "  background-color: var(--sklearn-color-unfitted-level-0);\n",
       "}\n",
       "\n",
       "#sk-container-id-2 div.sk-toggleable__content.fitted pre {\n",
       "  /* unfitted */\n",
       "  background-color: var(--sklearn-color-fitted-level-0);\n",
       "}\n",
       "\n",
       "#sk-container-id-2 input.sk-toggleable__control:checked~div.sk-toggleable__content {\n",
       "  /* Expand drop-down */\n",
       "  max-height: 200px;\n",
       "  max-width: 100%;\n",
       "  overflow: auto;\n",
       "}\n",
       "\n",
       "#sk-container-id-2 input.sk-toggleable__control:checked~label.sk-toggleable__label-arrow:before {\n",
       "  content: \"▾\";\n",
       "}\n",
       "\n",
       "/* Pipeline/ColumnTransformer-specific style */\n",
       "\n",
       "#sk-container-id-2 div.sk-label input.sk-toggleable__control:checked~label.sk-toggleable__label {\n",
       "  color: var(--sklearn-color-text);\n",
       "  background-color: var(--sklearn-color-unfitted-level-2);\n",
       "}\n",
       "\n",
       "#sk-container-id-2 div.sk-label.fitted input.sk-toggleable__control:checked~label.sk-toggleable__label {\n",
       "  background-color: var(--sklearn-color-fitted-level-2);\n",
       "}\n",
       "\n",
       "/* Estimator-specific style */\n",
       "\n",
       "/* Colorize estimator box */\n",
       "#sk-container-id-2 div.sk-estimator input.sk-toggleable__control:checked~label.sk-toggleable__label {\n",
       "  /* unfitted */\n",
       "  background-color: var(--sklearn-color-unfitted-level-2);\n",
       "}\n",
       "\n",
       "#sk-container-id-2 div.sk-estimator.fitted input.sk-toggleable__control:checked~label.sk-toggleable__label {\n",
       "  /* fitted */\n",
       "  background-color: var(--sklearn-color-fitted-level-2);\n",
       "}\n",
       "\n",
       "#sk-container-id-2 div.sk-label label.sk-toggleable__label,\n",
       "#sk-container-id-2 div.sk-label label {\n",
       "  /* The background is the default theme color */\n",
       "  color: var(--sklearn-color-text-on-default-background);\n",
       "}\n",
       "\n",
       "/* On hover, darken the color of the background */\n",
       "#sk-container-id-2 div.sk-label:hover label.sk-toggleable__label {\n",
       "  color: var(--sklearn-color-text);\n",
       "  background-color: var(--sklearn-color-unfitted-level-2);\n",
       "}\n",
       "\n",
       "/* Label box, darken color on hover, fitted */\n",
       "#sk-container-id-2 div.sk-label.fitted:hover label.sk-toggleable__label.fitted {\n",
       "  color: var(--sklearn-color-text);\n",
       "  background-color: var(--sklearn-color-fitted-level-2);\n",
       "}\n",
       "\n",
       "/* Estimator label */\n",
       "\n",
       "#sk-container-id-2 div.sk-label label {\n",
       "  font-family: monospace;\n",
       "  font-weight: bold;\n",
       "  display: inline-block;\n",
       "  line-height: 1.2em;\n",
       "}\n",
       "\n",
       "#sk-container-id-2 div.sk-label-container {\n",
       "  text-align: center;\n",
       "}\n",
       "\n",
       "/* Estimator-specific */\n",
       "#sk-container-id-2 div.sk-estimator {\n",
       "  font-family: monospace;\n",
       "  border: 1px dotted var(--sklearn-color-border-box);\n",
       "  border-radius: 0.25em;\n",
       "  box-sizing: border-box;\n",
       "  margin-bottom: 0.5em;\n",
       "  /* unfitted */\n",
       "  background-color: var(--sklearn-color-unfitted-level-0);\n",
       "}\n",
       "\n",
       "#sk-container-id-2 div.sk-estimator.fitted {\n",
       "  /* fitted */\n",
       "  background-color: var(--sklearn-color-fitted-level-0);\n",
       "}\n",
       "\n",
       "/* on hover */\n",
       "#sk-container-id-2 div.sk-estimator:hover {\n",
       "  /* unfitted */\n",
       "  background-color: var(--sklearn-color-unfitted-level-2);\n",
       "}\n",
       "\n",
       "#sk-container-id-2 div.sk-estimator.fitted:hover {\n",
       "  /* fitted */\n",
       "  background-color: var(--sklearn-color-fitted-level-2);\n",
       "}\n",
       "\n",
       "/* Specification for estimator info (e.g. \"i\" and \"?\") */\n",
       "\n",
       "/* Common style for \"i\" and \"?\" */\n",
       "\n",
       ".sk-estimator-doc-link,\n",
       "a:link.sk-estimator-doc-link,\n",
       "a:visited.sk-estimator-doc-link {\n",
       "  float: right;\n",
       "  font-size: smaller;\n",
       "  line-height: 1em;\n",
       "  font-family: monospace;\n",
       "  background-color: var(--sklearn-color-background);\n",
       "  border-radius: 1em;\n",
       "  height: 1em;\n",
       "  width: 1em;\n",
       "  text-decoration: none !important;\n",
       "  margin-left: 1ex;\n",
       "  /* unfitted */\n",
       "  border: var(--sklearn-color-unfitted-level-1) 1pt solid;\n",
       "  color: var(--sklearn-color-unfitted-level-1);\n",
       "}\n",
       "\n",
       ".sk-estimator-doc-link.fitted,\n",
       "a:link.sk-estimator-doc-link.fitted,\n",
       "a:visited.sk-estimator-doc-link.fitted {\n",
       "  /* fitted */\n",
       "  border: var(--sklearn-color-fitted-level-1) 1pt solid;\n",
       "  color: var(--sklearn-color-fitted-level-1);\n",
       "}\n",
       "\n",
       "/* On hover */\n",
       "div.sk-estimator:hover .sk-estimator-doc-link:hover,\n",
       ".sk-estimator-doc-link:hover,\n",
       "div.sk-label-container:hover .sk-estimator-doc-link:hover,\n",
       ".sk-estimator-doc-link:hover {\n",
       "  /* unfitted */\n",
       "  background-color: var(--sklearn-color-unfitted-level-3);\n",
       "  color: var(--sklearn-color-background);\n",
       "  text-decoration: none;\n",
       "}\n",
       "\n",
       "div.sk-estimator.fitted:hover .sk-estimator-doc-link.fitted:hover,\n",
       ".sk-estimator-doc-link.fitted:hover,\n",
       "div.sk-label-container:hover .sk-estimator-doc-link.fitted:hover,\n",
       ".sk-estimator-doc-link.fitted:hover {\n",
       "  /* fitted */\n",
       "  background-color: var(--sklearn-color-fitted-level-3);\n",
       "  color: var(--sklearn-color-background);\n",
       "  text-decoration: none;\n",
       "}\n",
       "\n",
       "/* Span, style for the box shown on hovering the info icon */\n",
       ".sk-estimator-doc-link span {\n",
       "  display: none;\n",
       "  z-index: 9999;\n",
       "  position: relative;\n",
       "  font-weight: normal;\n",
       "  right: .2ex;\n",
       "  padding: .5ex;\n",
       "  margin: .5ex;\n",
       "  width: min-content;\n",
       "  min-width: 20ex;\n",
       "  max-width: 50ex;\n",
       "  color: var(--sklearn-color-text);\n",
       "  box-shadow: 2pt 2pt 4pt #999;\n",
       "  /* unfitted */\n",
       "  background: var(--sklearn-color-unfitted-level-0);\n",
       "  border: .5pt solid var(--sklearn-color-unfitted-level-3);\n",
       "}\n",
       "\n",
       ".sk-estimator-doc-link.fitted span {\n",
       "  /* fitted */\n",
       "  background: var(--sklearn-color-fitted-level-0);\n",
       "  border: var(--sklearn-color-fitted-level-3);\n",
       "}\n",
       "\n",
       ".sk-estimator-doc-link:hover span {\n",
       "  display: block;\n",
       "}\n",
       "\n",
       "/* \"?\"-specific style due to the `<a>` HTML tag */\n",
       "\n",
       "#sk-container-id-2 a.estimator_doc_link {\n",
       "  float: right;\n",
       "  font-size: 1rem;\n",
       "  line-height: 1em;\n",
       "  font-family: monospace;\n",
       "  background-color: var(--sklearn-color-background);\n",
       "  border-radius: 1rem;\n",
       "  height: 1rem;\n",
       "  width: 1rem;\n",
       "  text-decoration: none;\n",
       "  /* unfitted */\n",
       "  color: var(--sklearn-color-unfitted-level-1);\n",
       "  border: var(--sklearn-color-unfitted-level-1) 1pt solid;\n",
       "}\n",
       "\n",
       "#sk-container-id-2 a.estimator_doc_link.fitted {\n",
       "  /* fitted */\n",
       "  border: var(--sklearn-color-fitted-level-1) 1pt solid;\n",
       "  color: var(--sklearn-color-fitted-level-1);\n",
       "}\n",
       "\n",
       "/* On hover */\n",
       "#sk-container-id-2 a.estimator_doc_link:hover {\n",
       "  /* unfitted */\n",
       "  background-color: var(--sklearn-color-unfitted-level-3);\n",
       "  color: var(--sklearn-color-background);\n",
       "  text-decoration: none;\n",
       "}\n",
       "\n",
       "#sk-container-id-2 a.estimator_doc_link.fitted:hover {\n",
       "  /* fitted */\n",
       "  background-color: var(--sklearn-color-fitted-level-3);\n",
       "}\n",
       "</style><div id=\"sk-container-id-2\" class=\"sk-top-container\"><div class=\"sk-text-repr-fallback\"><pre>KNeighborsClassifier(n_neighbors=4, p=1)</pre><b>In a Jupyter environment, please rerun this cell to show the HTML representation or trust the notebook. <br />On GitHub, the HTML representation is unable to render, please try loading this page with nbviewer.org.</b></div><div class=\"sk-container\" hidden><div class=\"sk-item\"><div class=\"sk-estimator fitted sk-toggleable\"><input class=\"sk-toggleable__control sk-hidden--visually\" id=\"sk-estimator-id-2\" type=\"checkbox\" checked><label for=\"sk-estimator-id-2\" class=\"sk-toggleable__label fitted sk-toggleable__label-arrow fitted\">&nbsp;&nbsp;KNeighborsClassifier<a class=\"sk-estimator-doc-link fitted\" rel=\"noreferrer\" target=\"_blank\" href=\"https://scikit-learn.org/1.5/modules/generated/sklearn.neighbors.KNeighborsClassifier.html\">?<span>Documentation for KNeighborsClassifier</span></a><span class=\"sk-estimator-doc-link fitted\">i<span>Fitted</span></span></label><div class=\"sk-toggleable__content fitted\"><pre>KNeighborsClassifier(n_neighbors=4, p=1)</pre></div> </div></div></div></div>"
      ],
      "text/plain": [
       "KNeighborsClassifier(n_neighbors=4, p=1)"
      ]
     },
     "execution_count": 39,
     "metadata": {},
     "output_type": "execute_result"
    }
   ],
   "source": [
    "model = KNeighborsClassifier(n_neighbors=4, p=1)\n",
    "model.fit(X_train, y_train)"
   ]
  },
  {
   "cell_type": "code",
   "execution_count": 32,
   "metadata": {},
   "outputs": [
    {
     "data": {
      "image/png": "[encoded data removed]",
      "text/plain": [
       "<Figure size 640x480 with 1 Axes>"
      ]
     },
     "metadata": {},
     "output_type": "display_data"
    }
   ],
   "source": [
    "fig, ax = plt.subplots()\n",
    "for j in range(1, 3):\n",
    "    ax.plot(range(1, n_neighbors_max), scores[j-1], label=f\"p={j}\")\n",
    "    ax.legend()\n",
    "plt.show()"
   ]
  },
  {
   "cell_type": "code",
   "execution_count": 33,
   "metadata": {},
   "outputs": [
    {
     "name": "stdout",
     "output_type": "stream",
     "text": [
      "For p=1 the best accuracy is 0.931 for 4 neighbors\n",
      "For p=2 the best accuracy is 0.94 for 3 neighbors\n"
     ]
    }
   ],
   "source": [
    "for j in range(1, 3):\n",
    "    max_accuracy = max(scores[j-1])\n",
    "    print(f\"For p={j} the best accuracy is {max_accuracy} for {scores[j-1].index(max_accuracy)} neighbors\")"
   ]
  },
  {
   "cell_type": "markdown",
   "metadata": {
    "id": "dARVMb93FKRr"
   },
   "source": [
    "### Now we can classify using the model\n",
    "\n",
    "### Теперь можем классифицировать:"
   ]
  },
  {
   "cell_type": "code",
   "execution_count": 38,
   "metadata": {
    "colab": {
     "base_uri": "https://localhost:8080/",
     "height": 252
    },
    "executionInfo": {
     "elapsed": 1067,
     "status": "ok",
     "timestamp": 1605531414693,
     "user": {
      "displayName": "Nikolai Zolotykh",
      "photoUrl": "https://lh3.googleusercontent.com/a-/AOh14GivHxEpGqBn7aTVrjpJVWFEjFcBANPv_0YmBHMszQ=s64",
      "userId": "03606609416015113398"
     },
     "user_tz": -180
    },
    "id": "NyQEvJACFKRr",
    "outputId": "bc677417-21f6-45f5-c5c0-d9bb0473f6a5"
   },
   "outputs": [
    {
     "data": {
      "image/png": "[encoded data removed]",
      "text/plain": [
       "<Figure size 640x480 with 1 Axes>"
      ]
     },
     "metadata": {},
     "output_type": "display_data"
    }
   ],
   "source": [
    "No = 43\n",
    "Img = X_test[No, :]\n",
    "dig = y_test[No]\n",
    "draw_digit(Img, dig)"
   ]
  },
  {
   "cell_type": "code",
   "execution_count": 41,
   "metadata": {
    "colab": {
     "base_uri": "https://localhost:8080/"
    },
    "executionInfo": {
     "elapsed": 1061,
     "status": "ok",
     "timestamp": 1605531414695,
     "user": {
      "displayName": "Nikolai Zolotykh",
      "photoUrl": "https://lh3.googleusercontent.com/a-/AOh14GivHxEpGqBn7aTVrjpJVWFEjFcBANPv_0YmBHMszQ=s64",
      "userId": "03606609416015113398"
     },
     "user_tz": -180
    },
    "id": "RzYRbwFsFKRt",
    "outputId": "81e21978-b079-4267-953e-d26c33c42380"
   },
   "outputs": [
    {
     "data": {
      "text/plain": [
       "array([3], dtype=int8)"
      ]
     },
     "execution_count": 41,
     "metadata": {},
     "output_type": "execute_result"
    }
   ],
   "source": [
    "model.predict([Img])"
   ]
  },
  {
   "cell_type": "code",
   "execution_count": 42,
   "metadata": {
    "colab": {
     "base_uri": "https://localhost:8080/",
     "height": 252
    },
    "executionInfo": {
     "elapsed": 1521,
     "status": "ok",
     "timestamp": 1605531415161,
     "user": {
      "displayName": "Nikolai Zolotykh",
      "photoUrl": "https://lh3.googleusercontent.com/a-/AOh14GivHxEpGqBn7aTVrjpJVWFEjFcBANPv_0YmBHMszQ=s64",
      "userId": "03606609416015113398"
     },
     "user_tz": -180
    },
    "id": "XSvwSxkYFKRw",
    "outputId": "18c4f66f-21b4-4c23-d9d8-eefc4c732536"
   },
   "outputs": [
    {
     "data": {
      "image/png": "[encoded data removed]",
      "text/plain": [
       "<Figure size 640x480 with 1 Axes>"
      ]
     },
     "metadata": {},
     "output_type": "display_data"
    }
   ],
   "source": [
    "No = 24\n",
    "Img = X_test[No, ]\n",
    "dig = y_test[No]\n",
    "dig_pred = model.predict([Img])[0]\n",
    "draw_digit(Img, dig, dig_pred)"
   ]
  },
  {
   "cell_type": "markdown",
   "metadata": {
    "id": "jdWiGzaHFKRy"
   },
   "source": [
    "### Check the quality of the model\n",
    "\n",
    "### Проверяем качество классификатора"
   ]
  },
  {
   "cell_type": "code",
   "execution_count": 43,
   "metadata": {
    "id": "kbhfQfwjFKRz"
   },
   "outputs": [],
   "source": [
    "y_train_pred = model.predict(X_train)\n",
    "y_test_pred = model.predict(X_test)"
   ]
  },
  {
   "cell_type": "code",
   "execution_count": 21,
   "metadata": {},
   "outputs": [
    {
     "data": {
      "text/plain": [
       "(6000,)"
      ]
     },
     "execution_count": 21,
     "metadata": {},
     "output_type": "execute_result"
    }
   ],
   "source": [
    "y_train.shape"
   ]
  },
  {
   "cell_type": "code",
   "execution_count": 44,
   "metadata": {},
   "outputs": [
    {
     "data": {
      "text/plain": [
       "array([False, False,  True, ...,  True,  True, False])"
      ]
     },
     "execution_count": 44,
     "metadata": {},
     "output_type": "execute_result"
    }
   ],
   "source": [
    "y_train != y_train_pred"
   ]
  },
  {
   "cell_type": "code",
   "execution_count": 45,
   "metadata": {},
   "outputs": [
    {
     "data": {
      "text/plain": [
       "array([ True, False, False,  True,  True, False, False, False, False,\n",
       "        True, False, False, False, False, False, False, False,  True,\n",
       "       False, False, False, False, False, False, False, False, False,\n",
       "       False, False,  True, False, False, False, False, False, False,\n",
       "        True, False, False, False, False, False, False, False, False,\n",
       "       False, False, False, False,  True, False, False, False, False,\n",
       "        True, False, False, False, False, False,  True, False, False,\n",
       "       False,  True, False, False, False,  True, False, False, False,\n",
       "       False, False, False,  True, False, False,  True,  True, False,\n",
       "       False, False, False, False, False, False, False, False, False,\n",
       "        True,  True, False, False,  True, False,  True, False,  True,\n",
       "        True, False, False, False, False, False, False, False,  True,\n",
       "       False, False,  True, False, False, False, False,  True, False,\n",
       "        True, False, False, False, False, False, False, False, False,\n",
       "       False, False, False, False, False, False, False,  True, False,\n",
       "       False, False, False, False, False, False,  True, False, False,\n",
       "        True, False, False, False, False, False,  True, False, False,\n",
       "       False, False, False, False, False,  True, False, False, False,\n",
       "       False, False, False, False, False, False, False, False, False,\n",
       "       False, False, False,  True, False, False, False, False, False,\n",
       "       False, False,  True, False, False, False, False, False,  True,\n",
       "       False, False, False, False, False, False, False, False, False,\n",
       "       False,  True,  True,  True,  True, False, False,  True,  True,\n",
       "       False, False, False, False,  True, False, False, False, False,\n",
       "       False, False, False, False,  True, False, False, False, False,\n",
       "       False, False, False, False, False, False, False,  True, False,\n",
       "        True,  True,  True, False, False, False, False, False, False,\n",
       "       False, False, False,  True,  True,  True, False, False, False,\n",
       "        True, False,  True,  True, False, False, False, False, False,\n",
       "        True, False,  True, False, False, False,  True,  True, False,\n",
       "       False,  True, False, False, False, False, False,  True, False,\n",
       "        True, False, False, False,  True, False, False, False, False,\n",
       "       False, False, False, False, False, False, False,  True, False,\n",
       "       False, False, False, False, False, False, False, False,  True,\n",
       "       False,  True, False, False, False, False, False, False, False,\n",
       "       False, False,  True, False, False, False, False, False, False,\n",
       "       False, False,  True, False, False, False, False, False, False,\n",
       "       False, False, False,  True, False, False,  True, False, False,\n",
       "       False, False, False, False, False, False, False, False, False,\n",
       "       False, False, False, False, False, False, False,  True, False,\n",
       "       False, False, False, False,  True, False, False, False, False,\n",
       "        True, False, False, False, False,  True, False, False,  True,\n",
       "       False, False, False, False, False, False,  True, False, False,\n",
       "       False, False,  True, False, False, False, False,  True, False,\n",
       "       False, False, False,  True, False, False, False, False, False,\n",
       "        True, False, False, False, False, False, False,  True, False,\n",
       "       False,  True, False, False, False, False, False, False, False,\n",
       "       False,  True, False, False, False, False, False, False, False,\n",
       "       False, False, False, False,  True,  True,  True, False, False,\n",
       "       False, False, False, False, False, False, False, False, False,\n",
       "       False, False, False,  True, False, False, False, False, False,\n",
       "        True, False, False, False, False, False, False, False,  True,\n",
       "        True, False, False, False,  True,  True, False, False,  True,\n",
       "       False, False, False, False, False, False, False, False, False,\n",
       "        True, False, False, False, False, False, False, False,  True,\n",
       "        True, False, False, False, False,  True, False, False, False,\n",
       "       False, False, False, False, False, False, False, False, False,\n",
       "       False, False, False,  True, False, False, False, False, False,\n",
       "       False, False, False, False,  True, False, False, False, False,\n",
       "       False, False, False, False, False, False, False, False, False,\n",
       "       False, False, False, False, False, False, False, False,  True,\n",
       "       False, False,  True, False, False, False, False, False, False,\n",
       "       False, False, False,  True, False, False, False, False,  True,\n",
       "       False,  True,  True, False, False, False, False, False, False,\n",
       "       False, False, False, False, False, False, False,  True, False,\n",
       "       False, False,  True, False,  True, False, False, False, False,\n",
       "       False, False,  True, False, False, False, False, False, False,\n",
       "       False, False, False, False, False, False, False, False, False,\n",
       "       False, False, False, False, False, False,  True, False, False,\n",
       "        True, False,  True, False, False, False, False, False, False,\n",
       "       False,  True, False, False, False,  True, False,  True, False,\n",
       "       False, False, False, False, False,  True,  True, False, False,\n",
       "       False,  True, False, False, False, False, False, False, False,\n",
       "       False,  True, False, False, False,  True, False, False, False,\n",
       "       False, False, False, False, False, False, False,  True, False,\n",
       "       False,  True, False,  True, False,  True, False, False, False,\n",
       "       False, False, False, False, False, False,  True, False,  True,\n",
       "       False, False, False, False, False, False, False, False, False,\n",
       "        True, False, False, False, False, False, False, False, False,\n",
       "       False, False, False, False,  True, False, False, False, False,\n",
       "       False, False, False, False, False, False, False, False, False,\n",
       "       False, False,  True, False, False, False, False, False, False,\n",
       "       False,  True, False, False, False, False, False, False, False,\n",
       "       False, False, False, False, False, False, False, False, False,\n",
       "       False, False, False, False, False,  True,  True, False, False,\n",
       "       False, False,  True, False, False, False, False, False, False,\n",
       "        True, False, False, False, False, False, False, False,  True,\n",
       "       False, False, False, False, False, False, False, False, False,\n",
       "       False, False, False, False, False, False, False, False, False,\n",
       "        True, False, False, False, False, False, False, False, False,\n",
       "        True, False, False, False, False, False, False, False, False,\n",
       "       False, False, False, False, False, False, False, False, False,\n",
       "       False, False, False, False, False, False, False, False, False,\n",
       "       False, False, False, False, False, False, False, False, False,\n",
       "       False, False, False, False,  True, False, False, False, False,\n",
       "       False, False, False,  True, False, False,  True, False, False,\n",
       "       False, False, False, False, False,  True, False, False, False,\n",
       "       False,  True, False, False, False, False, False, False, False,\n",
       "       False, False, False,  True, False,  True,  True,  True, False,\n",
       "       False, False, False, False, False, False, False, False, False,\n",
       "       False, False, False, False, False, False,  True, False, False,\n",
       "        True, False, False, False, False, False, False, False, False,\n",
       "       False, False, False, False, False, False, False, False, False,\n",
       "       False, False, False, False, False, False, False, False, False,\n",
       "       False, False, False, False, False, False, False,  True, False,\n",
       "       False, False, False, False,  True, False, False, False, False,\n",
       "       False,  True,  True,  True, False, False, False, False,  True,\n",
       "       False, False, False, False,  True, False, False, False, False,\n",
       "       False, False, False, False,  True, False, False, False, False,\n",
       "       False, False,  True,  True, False, False, False, False,  True,\n",
       "       False, False, False, False, False, False, False, False, False,\n",
       "       False])"
      ]
     },
     "execution_count": 45,
     "metadata": {},
     "output_type": "execute_result"
    }
   ],
   "source": [
    "y_test != y_test_pred"
   ]
  },
  {
   "cell_type": "markdown",
   "metadata": {
    "id": "PKZC8DZ2FKR2"
   },
   "source": [
    "Errors for train and test datasets:\n",
    "\n",
    "Ошибки на обучающей и тестовой выборках:"
   ]
  },
  {
   "cell_type": "code",
   "execution_count": 46,
   "metadata": {
    "id": "ON7Y-72zFKR3"
   },
   "outputs": [
    {
     "data": {
      "text/plain": [
       "(np.float64(0.1555), np.float64(0.155))"
      ]
     },
     "execution_count": 46,
     "metadata": {},
     "output_type": "execute_result"
    }
   ],
   "source": [
    "np.mean(y_train != y_train_pred), np.mean(y_test != y_test_pred)"
   ]
  },
  {
   "cell_type": "markdown",
   "metadata": {
    "id": "aYmbji53FKR5"
   },
   "source": [
    "We can do the same by the following way:\n",
    "\n",
    "Можно так:\n",
    "\n",
    "Calculate the accuracy:"
   ]
  },
  {
   "cell_type": "code",
   "execution_count": 47,
   "metadata": {
    "id": "x6cT-KSCFKR5"
   },
   "outputs": [
    {
     "data": {
      "text/plain": [
       "(0.8445, 0.845)"
      ]
     },
     "execution_count": 47,
     "metadata": {},
     "output_type": "execute_result"
    }
   ],
   "source": [
    "model.score(X_train, y_train), model.score(X_test, y_test)"
   ]
  },
  {
   "cell_type": "markdown",
   "metadata": {},
   "source": [
    "Compute the error:"
   ]
  },
  {
   "cell_type": "code",
   "execution_count": 48,
   "metadata": {
    "id": "s2J67o1QFKR9"
   },
   "outputs": [
    {
     "data": {
      "text/plain": [
       "0.15500000000000003"
      ]
     },
     "execution_count": 48,
     "metadata": {},
     "output_type": "execute_result"
    }
   ],
   "source": [
    "1 - model.score(X_test, y_test)"
   ]
  },
  {
   "cell_type": "markdown",
   "metadata": {
    "id": "tvLauAh3FKSA"
   },
   "source": [
    "### Confusion matrix\n",
    "\n",
    "### Матрица рассогласования:"
   ]
  },
  {
   "cell_type": "code",
   "execution_count": 27,
   "metadata": {
    "id": "IicWFp3mFKSB",
    "outputId": "4f72c2ce-b659-453d-a7ee-a29749017763"
   },
   "outputs": [
    {
     "data": {
      "text/plain": [
       "array([[ 97,   0,   0,   0,   0,   0,   2,   0,   0,   0],\n",
       "       [  0, 112,   0,   0,   0,   0,   0,   0,   0,   1],\n",
       "       [  0,   9,  85,   0,   0,   1,   0,   3,   0,   2],\n",
       "       [  0,   1,   3,  95,   0,   1,   0,   0,   1,   1],\n",
       "       [  0,   2,   0,   0,  91,   0,   1,   0,   0,   3],\n",
       "       [  2,   2,   0,   0,   0,  83,   3,   0,   0,   0],\n",
       "       [  1,   3,   0,   0,   0,   0,  94,   0,   0,   0],\n",
       "       [  0,   1,   0,   0,   0,   0,   0, 100,   0,   3],\n",
       "       [  1,   4,   0,   3,   1,   2,   1,   2,  82,   2],\n",
       "       [  1,   2,   0,   0,   5,   0,   0,   2,   0,  89]], dtype=int64)"
      ]
     },
     "execution_count": 27,
     "metadata": {},
     "output_type": "execute_result"
    }
   ],
   "source": [
    "from sklearn.metrics import confusion_matrix\n",
    "confusion_matrix(y_test, y_test_pred)"
   ]
  },
  {
   "cell_type": "code",
   "execution_count": 28,
   "metadata": {
    "id": "qeyZ5q-XFKSE",
    "outputId": "b956b4bb-8c60-4bc2-adb1-4587d08b3372"
   },
   "outputs": [
    {
     "data": {
      "image/png": "[encoded data removed]",
      "text/plain": [
       "<Figure size 432x288 with 2 Axes>"
      ]
     },
     "metadata": {
      "needs_background": "light"
     },
     "output_type": "display_data"
    }
   ],
   "source": [
    "from sklearn.metrics import plot_confusion_matrix\n",
    "plot_confusion_matrix(model, X_test, y_test, cmap=plt.cm.Blues)\n",
    "pass"
   ]
  },
  {
   "cell_type": "markdown",
   "metadata": {
    "id": "YUVGRUwQFKSH"
   },
   "source": [
    "### Other quality metrics:\n",
    "\n",
    "### Другие метрики качества:"
   ]
  },
  {
   "cell_type": "code",
   "execution_count": 29,
   "metadata": {
    "id": "qu8bOoPOFKSI",
    "outputId": "de530b4a-0dc8-4bd5-c937-fda239042924"
   },
   "outputs": [
    {
     "name": "stdout",
     "output_type": "stream",
     "text": [
      "              precision    recall  f1-score   support\n",
      "\n",
      "           0       0.95      0.98      0.97        99\n",
      "           1       0.82      0.99      0.90       113\n",
      "           2       0.97      0.85      0.90       100\n",
      "           3       0.97      0.93      0.95       102\n",
      "           4       0.94      0.94      0.94        97\n",
      "           5       0.95      0.92      0.94        90\n",
      "           6       0.93      0.96      0.94        98\n",
      "           7       0.93      0.96      0.95       104\n",
      "           8       0.99      0.84      0.91        98\n",
      "           9       0.88      0.90      0.89        99\n",
      "\n",
      "    accuracy                           0.93      1000\n",
      "   macro avg       0.93      0.93      0.93      1000\n",
      "weighted avg       0.93      0.93      0.93      1000\n",
      "\n"
     ]
    }
   ],
   "source": [
    "from sklearn.metrics import classification_report\n",
    "print(classification_report(y_test, y_test_pred))"
   ]
  },
  {
   "cell_type": "markdown",
   "metadata": {
    "id": "5rwc33zbFKSK"
   },
   "source": [
    "Для бинарной классификации:\n",
    "\n",
    "$$\n",
    "\\begin{array}{c|c|c|}\n",
    "    &   f(x)=0 & f(x)=1 \\\\\n",
    "\\hline\n",
    "y=0 & {\\rm TN} & {\\rm FP} \\\\\n",
    "\\hline\n",
    "y=1 & {\\rm FN} & {\\rm TP} \\\\\n",
    "\\hline\n",
    "\\end{array}\n",
    "$$\n",
    "\n",
    "${\\rm TN}$ – true negative\n",
    "\n",
    "${\\rm TP}$ – true positive\n",
    "\n",
    "${\\rm FP}$ – false positive, _ложные тревоги_ (ошибки 1-го рода или $\\alpha$-ошибки)\n",
    "\n",
    "${\\rm FN}$ – false negative, _промахи_ (ошибки 2-го рода или $\\beta$-ошибки)\n",
    "\n",
    "${\\rm error} = \\frac{{\\rm FP} + {\\rm FN}}{{\\rm TP} + {\\rm TN} + {\\rm FP} + {\\rm FN}}$ \n",
    "\n",
    "${\\rm accuracy} = \\frac{{\\rm TP} + {\\rm TN}}{{\\rm TP} + {\\rm TN} + {\\rm FP} + {\\rm FN}} = 1 - {\\rm error}$ \n",
    "\n",
    "$\\alpha = {\\rm FPR} = \\frac{{\\rm FP}}{{\\rm TN}+{\\rm FP}}$ – ``вероятность'' ошибки 1-го рода (_уровень значимости_)\n",
    "\n",
    "$\\beta = {\\rm FNR} = \\frac{{\\rm FN}}{{\\rm FN}+{\\rm TP}}$ – ``вероятность'' ошибки 2-го рода\n",
    "\n",
    "${\\rm precision} = \\frac{{\\rm TP}}{{\\rm FP}+{\\rm TP}}$ – ``точность'' (не путать с accuracy) \n",
    "\n",
    "${\\rm recall} = {\\rm TPR} = \\frac{{\\rm TP}}{{\\rm FN}+{\\rm TP}} = 1 - {\\rm FNR}$ – _чувствительность_, полнота, отклик (вероятность предсказать отсутствие болезни, при условии, что ее нет)\n",
    "\n",
    "${\\rm TNR} = \\frac{{\\rm TN}}{{\\rm TN}+{\\rm FP}} = 1 - {\\rm FPR}$ – _специфичность_ (вероятность предсказать болезнь, при условии, что она есть)\n",
    "\n",
    "$F_1 = 2\\cdot\\frac{{\\rm precision}\\cdot{\\rm recall}}{{\\rm precision}+{\\rm recall}}$ \n",
    "\n",
    "\n",
    "\n"
   ]
  },
  {
   "cell_type": "markdown",
   "metadata": {},
   "source": [
    "- FP is the number of _false positive_ samples (classified erroneously as positive sample)\n",
    "- FN is the number of _false negative_ samples (classified erroneously as negative sample)\n",
    "- TP is the number of _true positive_ samples (classified correctly as positive sample)\n",
    "- TN is the number of _true negativ_ samples (classified correctly as negative sample sample)"
   ]
  },
  {
   "cell_type": "markdown",
   "metadata": {
    "id": "wi6-FlaWFKSK"
   },
   "source": [
    "### All errors:\n",
    "\n",
    "### Все ошибки:"
   ]
  },
  {
   "cell_type": "code",
   "execution_count": 30,
   "metadata": {
    "id": "OqX75p2UFKSL",
    "outputId": "f3fe26ca-1f7d-42f3-f965-c4d821d261ce"
   },
   "outputs": [
    {
     "data": {
      "image/png": "[encoded data removed]",
      "text/plain": [
       "<Figure size 1440x720 with 72 Axes>"
      ]
     },
     "metadata": {},
     "output_type": "display_data"
    }
   ],
   "source": [
    "plt.figure(figsize = (20, 10))\n",
    "i_subplot = 1 \n",
    "for i in range(N_test):\n",
    "    Img = X_test[i, :]\n",
    "    dig = y_test[i]\n",
    "    dig_pred = model.predict([Img])[0]\n",
    "    if dig_pred != dig:\n",
    "        plt.subplot(8, 16, i_subplot)\n",
    "        draw_digit(Img, dig, dig_pred)\n",
    "        i_subplot += 1"
   ]
  },
  {
   "cell_type": "markdown",
   "metadata": {
    "id": "OJXz5pIMFKSO"
   },
   "source": [
    "#### Machine Learning Methods in scikit-learn library\n",
    "\n",
    "В библиотеке scikit-learn реализована масса алгоритмов машинного обучения.\n",
    "\n",
    "#### Некоторые алгоритмы машинного обучения, реализованные в scikit-learn:\n",
    "\n",
    " Метод                                     |  Класс\n",
    "-------------------------------------------|--------------------------------------------         \n",
    " kNN – $k$ ближайших соседей               | `sklearn.neighbors.KNeighborsClassifier`\n",
    " LDA – линейный дискриминантный анализ     | `sklearn.discriminant_analysis.LinearDiscriminantAnalysis`\n",
    " QDA – квадратичный дискриминантный анализ | `sklearn.discriminant_analysis.QuadraticDiscriminantAnalysis`\n",
    " Logistic – логистическая регрессия        | `sklearn.linear_model.LogisticRegression`\n",
    " SVC – машина опорных векторов             | `sklearn.svm.SVC`\n",
    " Tree – деревья решений                    | `sklearn.tree.DecisionTreeClassifier`\n",
    " RF – случайный лес                        | `sklearn.ensemble.RandomForestClassifier`\n",
    " ExtrRF – экстремально случайный лес       | `sklearn.ensemble.ExtraTreesClassifier`\n",
    " AdaBoost – алгоритм AdaBoost              | `sklearn.ensemble.AdaBoostClassifier`\n",
    " GBT – градиентный бустинг деревьев решений| `sklearn.ensemble.GradientBoostingClassifier`\n",
    " Нейронные сети                            | `sklearn.neural_network.MLPClassifier`\n",
    " \n",
    "\n",
    "\n",
    "\n",
    "#### Основные методы классов, реализующих алгоритмы машинного обучения\n",
    "Все алгоритмы выполнены в виде классов, обладающих по крайней мере следующими методами:\n",
    "\n",
    "\n",
    "\n",
    "   Метод класса            |  Описание     \n",
    " --------------------------|-------------------------------------------------------------\n",
    "  `fit(X_train, y_train)`              |  обучение (тренировка) модели на обучающей выборке `X_train`, `y_train`\n",
    "  `predict(X)`             |  предсказание на данных `X`\n",
    "  `set_params(**params)`   |  установка параметров алгоритма\n",
    "  `get_params()`           |  чтение параметров алгоритма\n",
    " \n",
    " Заметим, что параметры алгоритмов обучения можно задавать как в конструкторе класса, так и с помощью метода `set_params(**params)`.\n",
    " \n",
    " #### Таблица наличия/отсутствия методов для основных алгоритмов машинного обучения:\n",
    " \n",
    "    \n",
    "   Методы класса               | kNN | LDA | QDA | Logistic | SVC | Tree | RF | AdaBoost | GBT     \n",
    " ------------------------------|-----|-----|-----|----------|-----|------|----|----------|------\n",
    "  `fit(X, y)`                  |  +  |  +  |  +  |    +     |  +  |  +   | +  |    +     |  +\n",
    "  `predict(X)`                 |  +  |  +  |  +  |    +     |  +  |  +   | +  |    +     |  +\n",
    "  `predict_proba(X)`           |  +  |  +  |  +  |    +     |     |  +   | +  |    +     |  +\n",
    "  `predict_log_proba(X)`       |     |  +  |  +  |    +     |     |  +   | +  |    +     |  +\n",
    "  `score(X, y)`                |  +  |  +  |  +  |    +     |  +  |  +   | +  |    +     |  +\n",
    "  `decision_function(X)`       |     |  +  |  +  |    +     |  +  |      |    |    +     |  +\n",
    "  `transform(X)`               |     |  +  |     |    +     |     |  +   | +  |          |  +\n",
    "  `staged_decision_function(X)`|     |     |     |          |     |      |    |    +     |  +    \n",
    "  `staged_predict(X)`          |     |     |     |          |     |      |    |    +     |  +\n",
    "  `staged_predict_proba(X)`    |     |     |     |          |     |      |    |    +     |  +\n",
    "  `staged_score(X, y)`         |     |     |     |          |     |      |    |    +     |  +\n",
    "  `set_params(**params)`       |  +  |  +  |  +  |    +     |  +  |  +   | +  |    +     |  +\n",
    "  `get_params()`               |  +  |  +  |  +  |    +     |  +  |  +   | +  |    +     |  +\n",
    "    \n",
    "    "
   ]
  },
  {
   "cell_type": "markdown",
   "metadata": {
    "id": "yWcE32z8FKSV"
   },
   "source": [
    "### Neural methods (MLP  - Multi Layer Perceptron)\n",
    "### Нейронные сети (MLP - Multi Layer Perceptron)"
   ]
  },
  {
   "cell_type": "code",
   "execution_count": 33,
   "metadata": {
    "id": "lHUkDuxXFKSV",
    "outputId": "50b63595-245b-4621-d660-32a603f881a5"
   },
   "outputs": [
    {
     "data": {
      "text/plain": [
       "MLPClassifier(hidden_layer_sizes=(30,), random_state=42)"
      ]
     },
     "execution_count": 33,
     "metadata": {},
     "output_type": "execute_result"
    }
   ],
   "source": [
    "from sklearn.neural_network import MLPClassifier\n",
    "model = MLPClassifier(hidden_layer_sizes = (30,), random_state = 42)\n",
    "model.fit(X_train, y_train)"
   ]
  },
  {
   "cell_type": "code",
   "execution_count": 34,
   "metadata": {
    "id": "DfFVoJ1KFKSZ",
    "outputId": "65f0c78c-f8ee-4eb8-86be-59410be26ea0"
   },
   "outputs": [
    {
     "data": {
      "text/plain": [
       "(0.042, 0.119)"
      ]
     },
     "execution_count": 34,
     "metadata": {},
     "output_type": "execute_result"
    }
   ],
   "source": [
    "y_train_pred = model.predict(X_train)\n",
    "y_test_pred = model.predict(X_test)\n",
    "np.mean(y_train != y_train_pred), np.mean(y_test != y_test_pred)"
   ]
  },
  {
   "cell_type": "code",
   "execution_count": 35,
   "metadata": {
    "id": "0U6lNFc5FKSb",
    "outputId": "8b19cea8-bf0a-403d-c6db-ceca28747ae4"
   },
   "outputs": [
    {
     "data": {
      "text/plain": [
       "MLPClassifier(hidden_layer_sizes=(1000, 500), random_state=42)"
      ]
     },
     "execution_count": 35,
     "metadata": {},
     "output_type": "execute_result"
    }
   ],
   "source": [
    "model = MLPClassifier(hidden_layer_sizes = (1000, 500), random_state = 42)\n",
    "model.fit(X_train, y_train)"
   ]
  },
  {
   "cell_type": "code",
   "execution_count": 36,
   "metadata": {
    "id": "JCEZRmqDFKSd",
    "outputId": "0240548d-5c37-4b6d-dc3a-8563effa5240"
   },
   "outputs": [
    {
     "data": {
      "text/plain": [
       "(0.0, 0.071)"
      ]
     },
     "execution_count": 36,
     "metadata": {},
     "output_type": "execute_result"
    }
   ],
   "source": [
    "y_train_pred = model.predict(X_train)\n",
    "y_test_pred = model.predict(X_test)\n",
    "np.mean(y_train != y_train_pred), np.mean(y_test != y_test_pred)"
   ]
  },
  {
   "cell_type": "markdown",
   "metadata": {
    "id": "AKt1W61mFKSt"
   },
   "source": [
    "### Подбор *гипер*параметров\n",
    "\n",
    "### Choosing hyperpapameters\n",
    "\n",
    "Подберем _оптимальное_ значение параметра регуляризации `alpha`\n",
    "\n",
    "Let's try to find the optimal value for regularization parameter `alpha`\n",
    "\n",
    "(Можно вместо циклов, написанных руками, использовать `sklearn.model_selection.GridSearchCV` и т.п.)\n",
    "\n",
    "(Instead of using cycles you can use `sklearn.model_selection.GridSearchCV` etc.)"
   ]
  },
  {
   "cell_type": "code",
   "execution_count": 44,
   "metadata": {
    "id": "QWVxq3mKFKSt",
    "outputId": "bbabcb45-71ef-4fb2-9375-e8783cdd2f38"
   },
   "outputs": [],
   "source": [
    "alpha_arr = np.logspace(-4, 5, 10)\n",
    "test_err = []\n",
    "train_err = []\n",
    "for alpha in alpha_arr:\n",
    "    mlp_model = MLPClassifier(hidden_layer_sizes = (30,), random_state = 42, alpha = alpha)\n",
    "    mlp_model.fit(X_train, y_train)\n",
    "\n",
    "    y_train_pred = mlp_model.predict(X_train)\n",
    "    y_test_pred = mlp_model.predict(X_test)\n",
    "    train_err.append(np.mean(y_train != y_train_pred))\n",
    "    test_err.append(np.mean(y_test != y_test_pred))"
   ]
  },
  {
   "cell_type": "code",
   "execution_count": 45,
   "metadata": {
    "id": "GlINJG88FKSv",
    "outputId": "57c4a09e-3e35-47ab-915f-85bfc6840f76"
   },
   "outputs": [
    {
     "data": {
      "image/png": "[encoded data removed]",
      "text/plain": [
       "<Figure size 432x288 with 1 Axes>"
      ]
     },
     "metadata": {
      "needs_background": "light"
     },
     "output_type": "display_data"
    }
   ],
   "source": [
    "plt.semilogx(alpha_arr, train_err, 'r-o', label = 'train')\n",
    "plt.semilogx(alpha_arr, test_err, 'b-o', label = 'test')\n",
    "plt.xlim([np.max(alpha_arr), np.min(alpha_arr)])\n",
    "plt.title('Error vs. alpha')\n",
    "plt.xlabel('alpha')\n",
    "plt.ylabel('error')\n",
    "plt.legend()\n",
    "pass"
   ]
  },
  {
   "cell_type": "markdown",
   "metadata": {
    "id": "DDWdxbPWFKSx"
   },
   "source": [
    "Минимальное значение ошибки:\n",
    "Minimal errors:"
   ]
  },
  {
   "cell_type": "code",
   "execution_count": 46,
   "metadata": {
    "id": "sk-Szo12FKSx",
    "outputId": "fc789539-fb7a-4d58-c44a-812fc8d7da2c"
   },
   "outputs": [
    {
     "name": "stdout",
     "output_type": "stream",
     "text": [
      "0.006 0.051\n"
     ]
    }
   ],
   "source": [
    "min_train_err = np.min(train_err)\n",
    "min_test_err = np.min(test_err)\n",
    "print(min_train_err, min_test_err)"
   ]
  },
  {
   "cell_type": "markdown",
   "metadata": {
    "id": "eiROjTcJFKS0"
   },
   "source": [
    "Оптимальное значение `alpha`:\n",
    "\n",
    "OPtimal value for `alpha` (when the test error is minimal)^"
   ]
  },
  {
   "cell_type": "code",
   "execution_count": 47,
   "metadata": {
    "id": "83NEIHjcFKS1",
    "outputId": "300dca27-dd33-4234-bcb6-b6428e9e9d69"
   },
   "outputs": [
    {
     "name": "stdout",
     "output_type": "stream",
     "text": [
      "[100.]\n"
     ]
    }
   ],
   "source": [
    "alpha_opt = alpha_arr[test_err == min_test_err]\n",
    "print(alpha_opt)"
   ]
  },
  {
   "cell_type": "code",
   "execution_count": 48,
   "metadata": {
    "id": "o_sRvg6XFKS6"
   },
   "outputs": [],
   "source": [
    "alpha_opt = alpha_opt[0]"
   ]
  },
  {
   "cell_type": "markdown",
   "metadata": {
    "id": "3Khfd1EIFKS9"
   },
   "source": [
    "### Классификатор при найденном _оптимальном_ значении `alpha`:\n",
    "\n",
    "### Classifier for optimal value of `alpha`"
   ]
  },
  {
   "cell_type": "markdown",
   "metadata": {
    "id": "-W4GEYz2FKS9"
   },
   "source": [
    "Повторим обучение:\n",
    "\n",
    "Repeat the training"
   ]
  },
  {
   "cell_type": "code",
   "execution_count": 50,
   "metadata": {
    "id": "Tc0_aeTaFKS-",
    "outputId": "aa358e9a-fe55-4428-e062-224d92ea3120"
   },
   "outputs": [
    {
     "name": "stdout",
     "output_type": "stream",
     "text": [
      "0.0185\n",
      "0.051\n"
     ]
    }
   ],
   "source": [
    "mlp_model = MLPClassifier(hidden_layer_sizes = (30,), random_state = 42, alpha = alpha_opt)\n",
    "mlp_model.fit(X_train, y_train)\n",
    "\n",
    "y_train_pred = mlp_model.predict(X_train)\n",
    "y_test_pred = mlp_model.predict(X_test)\n",
    "print(np.mean(y_train != y_train_pred))\n",
    "print(np.mean(y_test != y_test_pred))"
   ]
  },
  {
   "cell_type": "markdown",
   "metadata": {
    "id": "nTAPe6gpFKSf"
   },
   "source": [
    "### Support vector machine\n",
    "\n",
    "### Машина опорных векторов"
   ]
  },
  {
   "cell_type": "code",
   "execution_count": 37,
   "metadata": {
    "id": "0m3TWLoVFKSg",
    "outputId": "fc534190-559c-4c02-e093-3e2a0491a663"
   },
   "outputs": [
    {
     "data": {
      "text/plain": [
       "SVC()"
      ]
     },
     "execution_count": 37,
     "metadata": {},
     "output_type": "execute_result"
    }
   ],
   "source": [
    "from sklearn.svm import SVC\n",
    "model = SVC()\n",
    "model.fit(X_train, y_train)"
   ]
  },
  {
   "cell_type": "code",
   "execution_count": 38,
   "metadata": {
    "id": "OT1y4IkYFKSi",
    "outputId": "ecc20fd3-6333-4acb-95e4-135e0b2918bc"
   },
   "outputs": [
    {
     "data": {
      "text/plain": [
       "(0.016833333333333332, 0.041)"
      ]
     },
     "execution_count": 38,
     "metadata": {},
     "output_type": "execute_result"
    }
   ],
   "source": [
    "y_train_pred = model.predict(X_train)\n",
    "y_test_pred = model.predict(X_test)\n",
    "np.mean(y_train != y_train_pred), np.mean(y_test != y_test_pred)"
   ]
  },
  {
   "cell_type": "code",
   "execution_count": 39,
   "metadata": {
    "id": "GwvW-GicFKSl"
   },
   "outputs": [
    {
     "data": {
      "text/plain": [
       "SVC(kernel='linear')"
      ]
     },
     "execution_count": 39,
     "metadata": {},
     "output_type": "execute_result"
    }
   ],
   "source": [
    "model = SVC(kernel = 'linear')\n",
    "model.fit(X_train, y_train)"
   ]
  },
  {
   "cell_type": "code",
   "execution_count": 40,
   "metadata": {
    "id": "iqpkbWaJFKSn"
   },
   "outputs": [
    {
     "data": {
      "text/plain": [
       "(0.0, 0.089)"
      ]
     },
     "execution_count": 40,
     "metadata": {},
     "output_type": "execute_result"
    }
   ],
   "source": [
    "y_train_pred = model.predict(X_train)\n",
    "y_test_pred = model.predict(X_test)\n",
    "np.mean(y_train != y_train_pred), np.mean(y_test != y_test_pred)"
   ]
  },
  {
   "cell_type": "code",
   "execution_count": 41,
   "metadata": {
    "id": "8dGMjcZUFKSp"
   },
   "outputs": [
    {
     "data": {
      "text/plain": [
       "SVC(kernel='poly')"
      ]
     },
     "execution_count": 41,
     "metadata": {},
     "output_type": "execute_result"
    }
   ],
   "source": [
    "model = SVC(kernel = 'poly')\n",
    "model.fit(X_train, y_train)"
   ]
  },
  {
   "cell_type": "code",
   "execution_count": 42,
   "metadata": {
    "id": "mnF_I7p6FKSr"
   },
   "outputs": [
    {
     "data": {
      "text/plain": [
       "(0.014666666666666666, 0.052)"
      ]
     },
     "execution_count": 42,
     "metadata": {},
     "output_type": "execute_result"
    }
   ],
   "source": [
    "y_train_pred = model.predict(X_train)\n",
    "y_test_pred = model.predict(X_test)\n",
    "np.mean(y_train != y_train_pred), np.mean(y_test != y_test_pred)"
   ]
  },
  {
   "cell_type": "markdown",
   "metadata": {
    "id": "jB5aLN-4FKSO"
   },
   "source": [
    "### Логистическая регрессия\n",
    "\n",
    "### Logistic regression"
   ]
  },
  {
   "cell_type": "code",
   "execution_count": 31,
   "metadata": {
    "id": "9T2P9WuKFKSP",
    "outputId": "4b9762ed-0038-497a-ea0c-8cd712be1325"
   },
   "outputs": [
    {
     "name": "stderr",
     "output_type": "stream",
     "text": [
      "C:\\Users\\nikol\\anaconda3\\lib\\site-packages\\sklearn\\linear_model\\_logistic.py:763: ConvergenceWarning: lbfgs failed to converge (status=1):\n",
      "STOP: TOTAL NO. of ITERATIONS REACHED LIMIT.\n",
      "\n",
      "Increase the number of iterations (max_iter) or scale the data as shown in:\n",
      "    https://scikit-learn.org/stable/modules/preprocessing.html\n",
      "Please also refer to the documentation for alternative solver options:\n",
      "    https://scikit-learn.org/stable/modules/linear_model.html#logistic-regression\n",
      "  n_iter_i = _check_optimize_result(\n"
     ]
    },
    {
     "data": {
      "text/plain": [
       "LogisticRegression(max_iter=500)"
      ]
     },
     "execution_count": 31,
     "metadata": {},
     "output_type": "execute_result"
    }
   ],
   "source": [
    "from sklearn.linear_model import LogisticRegression\n",
    "model = LogisticRegression(max_iter=500)\n",
    "model.fit(X_train, y_train)"
   ]
  },
  {
   "cell_type": "code",
   "execution_count": 32,
   "metadata": {
    "id": "N26GCtjCFKSS",
    "outputId": "0dd3fe3c-9a56-4849-8bb8-3252bf605c59"
   },
   "outputs": [
    {
     "data": {
      "text/plain": [
       "(0.0, 0.124)"
      ]
     },
     "execution_count": 32,
     "metadata": {},
     "output_type": "execute_result"
    }
   ],
   "source": [
    "y_train_pred = model.predict(X_train)\n",
    "y_test_pred = model.predict(X_test)\n",
    "np.mean(y_train != y_train_pred), np.mean(y_test != y_test_pred)"
   ]
  },
  {
   "cell_type": "markdown",
   "metadata": {},
   "source": [
    "## Torch"
   ]
  },
  {
   "cell_type": "code",
   "execution_count": 51,
   "metadata": {},
   "outputs": [],
   "source": [
    "import torch # библиотека нейронных сетей\n",
    "import torch.nn as nn # модуль слоёв\n",
    "import numpy as np"
   ]
  },
  {
   "cell_type": "code",
   "execution_count": 52,
   "metadata": {},
   "outputs": [
    {
     "data": {
      "text/plain": [
       "Sequential(\n",
       "  (0): Linear(in_features=784, out_features=50, bias=True)\n",
       "  (1): ReLU()\n",
       "  (2): Linear(in_features=50, out_features=10, bias=True)\n",
       ")"
      ]
     },
     "execution_count": 52,
     "metadata": {},
     "output_type": "execute_result"
    }
   ],
   "source": [
    "model = nn.Sequential(\n",
    "    nn.Linear(d, 50),\n",
    "    nn.ReLU(),\n",
    "    nn.Linear(50, 10)\n",
    ")\n",
    "model"
   ]
  },
  {
   "cell_type": "code",
   "execution_count": 54,
   "metadata": {},
   "outputs": [],
   "source": [
    "from torch.utils.data import TensorDataset, DataLoader\n",
    "\n",
    "# Функция обучения (несколько тренировочных эпох)\n",
    "def train(model, X, y, loss_function, optimizer, batch_size=16, epochs=16):\n",
    "    X_tensor = torch.Tensor(X)\n",
    "    y_tensor = torch.LongTensor(y)\n",
    "    model.train()\n",
    "    dataset = TensorDataset(X_tensor, y_tensor)\n",
    "    dataloader = DataLoader(dataset, batch_size = batch_size, shuffle = True)\n",
    "    for _ in range(epochs):\n",
    "        losses = []\n",
    "        for X_batch, y_batch in dataloader:\n",
    "            logits = model(X_batch)\n",
    "            loss = loss_function(logits, y_batch)\n",
    "            optimizer.zero_grad()\n",
    "            loss.backward()\n",
    "            optimizer.step()\n",
    "            losses.append(loss.data.numpy())\n",
    "        print(np.mean(losses))"
   ]
  },
  {
   "cell_type": "code",
   "execution_count": 55,
   "metadata": {},
   "outputs": [],
   "source": [
    "loss_function = nn.CrossEntropyLoss()\n",
    "optimizer = torch.optim.Adam(model.parameters())"
   ]
  },
  {
   "cell_type": "code",
   "execution_count": 56,
   "metadata": {},
   "outputs": [
    {
     "name": "stdout",
     "output_type": "stream",
     "text": [
      "0.24912915\n",
      "0.12210508\n",
      "0.22238645\n",
      "0.24128892\n",
      "0.17072904\n",
      "0.32254058\n",
      "0.2826753\n",
      "0.43781775\n",
      "0.18599056\n",
      "0.0027136297\n",
      "0.025597585\n",
      "0.19193941\n",
      "0.46170828\n",
      "1.1887728\n",
      "0.13204873\n",
      "0.29221064\n"
     ]
    }
   ],
   "source": [
    "train(model, X_train, y_train, loss_function, optimizer)"
   ]
  },
  {
   "cell_type": "code",
   "execution_count": 57,
   "metadata": {},
   "outputs": [],
   "source": [
    "from sklearn.metrics import confusion_matrix, accuracy_score\n",
    "\n",
    "def print_confusion_matrix(model, X, y):\n",
    "    model.eval()\n",
    "    y_pred = model(torch.Tensor(X)).data.numpy().argmax(axis = 1)\n",
    "    print(confusion_matrix(y, y_pred))\n",
    "    accuracy = accuracy_score(y, y_pred)\n",
    "    print(f\"Accuracy = {accuracy}\")\n",
    "    return accuracy"
   ]
  },
  {
   "cell_type": "code",
   "execution_count": 58,
   "metadata": {},
   "outputs": [
    {
     "name": "stdout",
     "output_type": "stream",
     "text": [
      "[[ 89   0   0   0   0   0   2   1   7   0]\n",
      " [  0 110   1   0   1   0   0   1   0   0]\n",
      " [  0   1  94   2   0   0   0   1   1   1]\n",
      " [  0   0   0  91   0   5   0   0   6   0]\n",
      " [  0   0   0   0  83   2   2   1   1   8]\n",
      " [  2   0   0   1   0  81   3   1   0   2]\n",
      " [  0   0   1   0   1   0  94   0   1   1]\n",
      " [  0   0   1   0   0   0   0 101   0   2]\n",
      " [  0   0   2   3   1   5   2   0  84   1]\n",
      " [  0   0   1   0   1   1   0   6   3  87]]\n",
      "Accuracy = 0.914\n"
     ]
    },
    {
     "data": {
      "text/plain": [
       "0.914"
      ]
     },
     "execution_count": 58,
     "metadata": {},
     "output_type": "execute_result"
    }
   ],
   "source": [
    "print_confusion_matrix(model, X_test, y_test)"
   ]
  },
  {
   "cell_type": "markdown",
   "metadata": {},
   "source": [
    "## CNN"
   ]
  },
  {
   "cell_type": "code",
   "execution_count": 59,
   "metadata": {},
   "outputs": [],
   "source": [
    "import torch\n",
    "import torch.nn as nn"
   ]
  },
  {
   "cell_type": "code",
   "execution_count": 60,
   "metadata": {},
   "outputs": [],
   "source": [
    "batch_size = 64"
   ]
  },
  {
   "cell_type": "code",
   "execution_count": 61,
   "metadata": {},
   "outputs": [],
   "source": [
    "from torch.utils.data import DataLoader, TensorDataset\n",
    "\n",
    "X_train_tensor = torch.Tensor(X_train).reshape(N_train, 1, 28, 28)\n",
    "y_train_tensor = torch.LongTensor(y_train)\n",
    "train_dataset = TensorDataset(X_train_tensor, y_train_tensor)\n",
    "train_loader = DataLoader(train_dataset, batch_size = batch_size, shuffle = True)\n",
    "\n",
    "X_test_tensor = torch.Tensor(X_test).reshape(N_test, 1, 28, 28)\n",
    "y_test_tensor = torch.LongTensor(y_test)\n",
    "test_dataset = TensorDataset(X_test_tensor, y_test_tensor)\n",
    "test_loader = DataLoader(test_dataset, batch_size = batch_size, shuffle = True)"
   ]
  },
  {
   "cell_type": "code",
   "execution_count": 62,
   "metadata": {},
   "outputs": [],
   "source": [
    "# Альтернатива\n",
    "# Можем загрузить непсредственно из torch\n",
    "from torchvision import datasets, transforms\n",
    "train_dataset = datasets.MNIST(root='./data/', train=True,  transform=transforms.ToTensor(), download=True)\n",
    "test_dataset  = datasets.MNIST(root='./data/', train=False, transform=transforms.ToTensor())\n",
    "\n",
    "from torch.utils.data import DataLoader\n",
    "# Data Loader (Input Pipeline)\n",
    "batch_size = 64\n",
    "\n",
    "train_loader = DataLoader(dataset=train_dataset, batch_size=batch_size, shuffle=True)\n",
    "test_loader  = DataLoader(dataset=test_dataset,  batch_size=batch_size, shuffle=False)"
   ]
  },
  {
   "cell_type": "code",
   "execution_count": 63,
   "metadata": {},
   "outputs": [
    {
     "data": {
      "text/plain": [
       "Sequential(\n",
       "  (0): Conv2d(1, 8, kernel_size=(5, 5), stride=(1, 1))\n",
       "  (1): MaxPool2d(kernel_size=3, stride=3, padding=0, dilation=1, ceil_mode=False)\n",
       "  (2): ReLU()\n",
       "  (3): Conv2d(8, 16, kernel_size=(5, 5), stride=(1, 1))\n",
       "  (4): MaxPool2d(kernel_size=2, stride=2, padding=0, dilation=1, ceil_mode=False)\n",
       "  (5): ReLU()\n",
       "  (6): Flatten(start_dim=1, end_dim=-1)\n",
       "  (7): Linear(in_features=64, out_features=32, bias=True)\n",
       "  (8): ReLU()\n",
       "  (9): Linear(in_features=32, out_features=10, bias=True)\n",
       ")"
      ]
     },
     "execution_count": 63,
     "metadata": {},
     "output_type": "execute_result"
    }
   ],
   "source": [
    "model = nn.Sequential(\n",
    "    nn.Conv2d(in_channels = 1, out_channels = 8, kernel_size = 5), # 24x24\n",
    "    nn.MaxPool2d(kernel_size = 3), # 8x8\n",
    "    nn.ReLU(),\n",
    "    nn.Conv2d(in_channels = 8, out_channels = 16, kernel_size = 5), # 4x4\n",
    "    nn.MaxPool2d(kernel_size = 2), # 2x2\n",
    "    nn.ReLU(),\n",
    "    nn.Flatten(),\n",
    "    nn.Linear(in_features = 64, out_features = 32),\n",
    "    nn.ReLU(),\n",
    "    nn.Linear(32, 10)\n",
    ")\n",
    "model"
   ]
  },
  {
   "cell_type": "code",
   "execution_count": 64,
   "metadata": {},
   "outputs": [
    {
     "data": {
      "text/plain": [
       "Sequential(\n",
       "  (0): Conv2d(1, 8, kernel_size=(3, 3), stride=(1, 1))\n",
       "  (1): MaxPool2d(kernel_size=2, stride=2, padding=0, dilation=1, ceil_mode=False)\n",
       "  (2): ReLU()\n",
       "  (3): Conv2d(8, 16, kernel_size=(5, 5), stride=(1, 1))\n",
       "  (4): MaxPool2d(kernel_size=3, stride=3, padding=0, dilation=1, ceil_mode=False)\n",
       "  (5): ReLU()\n",
       "  (6): Flatten(start_dim=1, end_dim=-1)\n",
       "  (7): Linear(in_features=144, out_features=32, bias=True)\n",
       "  (8): ReLU()\n",
       "  (9): Linear(in_features=32, out_features=10, bias=True)\n",
       ")"
      ]
     },
     "execution_count": 64,
     "metadata": {},
     "output_type": "execute_result"
    }
   ],
   "source": [
    "model = nn.Sequential(\n",
    "    nn.Conv2d(in_channels = 1, out_channels = 8, kernel_size = 3), # 26x26\n",
    "    nn.MaxPool2d(kernel_size = 2), # 13x13\n",
    "    nn.ReLU(),\n",
    "    nn.Conv2d(in_channels = 8, out_channels = 16, kernel_size = 5), # 9x9\n",
    "    nn.MaxPool2d(kernel_size = 3), # 3x3\n",
    "    nn.ReLU(),\n",
    "    nn.Flatten(),\n",
    "    nn.Linear(in_features = 16*3*3, out_features = 32),\n",
    "    nn.ReLU(),\n",
    "    nn.Linear(32, 10)\n",
    ")\n",
    "model"
   ]
  },
  {
   "cell_type": "code",
   "execution_count": 65,
   "metadata": {},
   "outputs": [],
   "source": [
    "#optimizer = optim.SGD(model.parameters(), lr=0.01, momentum=0.5)\n",
    "#loss_function = nn.CrossEntropyLoss()\n",
    "#optimizer = torch.optim.Adam(model.parameters())\n",
    "loss_function = nn.CrossEntropyLoss()\n",
    "optimizer = torch.optim.Adam(model.parameters())"
   ]
  },
  {
   "cell_type": "code",
   "execution_count": 66,
   "metadata": {},
   "outputs": [],
   "source": [
    "def train(epoch):\n",
    "    model.train()\n",
    "    for batch_idx, (data, target) in enumerate(train_loader):\n",
    "        optimizer.zero_grad()\n",
    "        output = model(data)\n",
    "        loss = loss_function(output, target)\n",
    "        loss.backward()\n",
    "        optimizer.step()\n",
    "        if batch_idx % 100 == 0:\n",
    "            print('Train Epoch: {} [{}/{} ({:.0f}%)]\\tLoss: {:.6f}'.format(\n",
    "                epoch, batch_idx * len(data), len(train_loader.dataset),\n",
    "                100. * batch_idx / len(train_loader), loss.item()))"
   ]
  },
  {
   "cell_type": "code",
   "execution_count": 67,
   "metadata": {},
   "outputs": [],
   "source": [
    "def test():\n",
    "    model.eval()\n",
    "    test_loss = 0\n",
    "    correct = 0\n",
    "    for data, target in test_loader:\n",
    "        output = model(data)\n",
    "        test_loss += loss_function(output, target).data\n",
    "        pred = output.data.max(1, keepdim=True)[1]\n",
    "        correct += pred.eq(target.data.view_as(pred)).cpu().sum()\n",
    "\n",
    "    test_loss /= len(test_loader)\n",
    "    print('\\nTest set: Average loss: {:.4f}, Accuracy: {}/{} ({:.2f}%)\\n'.format(\n",
    "        test_loss, correct, len(test_loader.dataset),\n",
    "        100. * correct / len(test_loader.dataset)))"
   ]
  },
  {
   "cell_type": "code",
   "execution_count": 68,
   "metadata": {},
   "outputs": [
    {
     "name": "stderr",
     "output_type": "stream",
     "text": [
      "C:\\Users\\nikol\\anaconda3\\lib\\site-packages\\torch\\nn\\functional.py:718: UserWarning: Named tensors and all their associated APIs are an experimental feature and subject to change. Please do not use them for anything important until they are released as stable. (Triggered internally at  ..\\c10/core/TensorImpl.h:1156.)\n",
      "  return torch.max_pool2d(input, kernel_size, stride, padding, dilation, ceil_mode)\n"
     ]
    },
    {
     "name": "stdout",
     "output_type": "stream",
     "text": [
      "Train Epoch: 1 [0/60000 (0%)]\tLoss: 2.320932\n",
      "Train Epoch: 1 [6400/60000 (11%)]\tLoss: 0.570624\n",
      "Train Epoch: 1 [12800/60000 (21%)]\tLoss: 0.191438\n",
      "Train Epoch: 1 [19200/60000 (32%)]\tLoss: 0.213023\n",
      "Train Epoch: 1 [25600/60000 (43%)]\tLoss: 0.326095\n",
      "Train Epoch: 1 [32000/60000 (53%)]\tLoss: 0.146031\n",
      "Train Epoch: 1 [38400/60000 (64%)]\tLoss: 0.142494\n",
      "Train Epoch: 1 [44800/60000 (75%)]\tLoss: 0.094797\n",
      "Train Epoch: 1 [51200/60000 (85%)]\tLoss: 0.129686\n",
      "Train Epoch: 1 [57600/60000 (96%)]\tLoss: 0.054838\n",
      "\n",
      "Test set: Average loss: 0.0017, Accuracy: 9650/10000 (96.50%)\n",
      "\n",
      "Train Epoch: 2 [0/60000 (0%)]\tLoss: 0.156572\n",
      "Train Epoch: 2 [6400/60000 (11%)]\tLoss: 0.039931\n",
      "Train Epoch: 2 [12800/60000 (21%)]\tLoss: 0.052824\n",
      "Train Epoch: 2 [19200/60000 (32%)]\tLoss: 0.113921\n",
      "Train Epoch: 2 [25600/60000 (43%)]\tLoss: 0.038999\n",
      "Train Epoch: 2 [32000/60000 (53%)]\tLoss: 0.008960\n",
      "Train Epoch: 2 [38400/60000 (64%)]\tLoss: 0.138621\n",
      "Train Epoch: 2 [44800/60000 (75%)]\tLoss: 0.080485\n",
      "Train Epoch: 2 [51200/60000 (85%)]\tLoss: 0.025083\n",
      "Train Epoch: 2 [57600/60000 (96%)]\tLoss: 0.174235\n",
      "\n",
      "Test set: Average loss: 0.0012, Accuracy: 9762/10000 (97.62%)\n",
      "\n",
      "Train Epoch: 3 [0/60000 (0%)]\tLoss: 0.061885\n",
      "Train Epoch: 3 [6400/60000 (11%)]\tLoss: 0.044838\n",
      "Train Epoch: 3 [12800/60000 (21%)]\tLoss: 0.087995\n",
      "Train Epoch: 3 [19200/60000 (32%)]\tLoss: 0.079437\n",
      "Train Epoch: 3 [25600/60000 (43%)]\tLoss: 0.029493\n",
      "Train Epoch: 3 [32000/60000 (53%)]\tLoss: 0.124121\n",
      "Train Epoch: 3 [38400/60000 (64%)]\tLoss: 0.028864\n",
      "Train Epoch: 3 [44800/60000 (75%)]\tLoss: 0.026187\n",
      "Train Epoch: 3 [51200/60000 (85%)]\tLoss: 0.131613\n",
      "Train Epoch: 3 [57600/60000 (96%)]\tLoss: 0.070034\n",
      "\n",
      "Test set: Average loss: 0.0012, Accuracy: 9750/10000 (97.50%)\n",
      "\n",
      "Train Epoch: 4 [0/60000 (0%)]\tLoss: 0.099946\n",
      "Train Epoch: 4 [6400/60000 (11%)]\tLoss: 0.034527\n",
      "Train Epoch: 4 [12800/60000 (21%)]\tLoss: 0.040230\n",
      "Train Epoch: 4 [19200/60000 (32%)]\tLoss: 0.014495\n",
      "Train Epoch: 4 [25600/60000 (43%)]\tLoss: 0.017830\n",
      "Train Epoch: 4 [32000/60000 (53%)]\tLoss: 0.178569\n",
      "Train Epoch: 4 [38400/60000 (64%)]\tLoss: 0.088088\n",
      "Train Epoch: 4 [44800/60000 (75%)]\tLoss: 0.179553\n",
      "Train Epoch: 4 [51200/60000 (85%)]\tLoss: 0.024717\n",
      "Train Epoch: 4 [57600/60000 (96%)]\tLoss: 0.025466\n",
      "\n",
      "Test set: Average loss: 0.0010, Accuracy: 9801/10000 (98.01%)\n",
      "\n",
      "Train Epoch: 5 [0/60000 (0%)]\tLoss: 0.018271\n",
      "Train Epoch: 5 [6400/60000 (11%)]\tLoss: 0.136592\n",
      "Train Epoch: 5 [12800/60000 (21%)]\tLoss: 0.012489\n",
      "Train Epoch: 5 [19200/60000 (32%)]\tLoss: 0.083302\n",
      "Train Epoch: 5 [25600/60000 (43%)]\tLoss: 0.109947\n",
      "Train Epoch: 5 [32000/60000 (53%)]\tLoss: 0.005303\n",
      "Train Epoch: 5 [38400/60000 (64%)]\tLoss: 0.049657\n",
      "Train Epoch: 5 [44800/60000 (75%)]\tLoss: 0.021493\n",
      "Train Epoch: 5 [51200/60000 (85%)]\tLoss: 0.075898\n",
      "Train Epoch: 5 [57600/60000 (96%)]\tLoss: 0.116256\n",
      "\n",
      "Test set: Average loss: 0.0009, Accuracy: 9830/10000 (98.30%)\n",
      "\n",
      "Train Epoch: 6 [0/60000 (0%)]\tLoss: 0.030798\n",
      "Train Epoch: 6 [6400/60000 (11%)]\tLoss: 0.045656\n",
      "Train Epoch: 6 [12800/60000 (21%)]\tLoss: 0.023965\n",
      "Train Epoch: 6 [19200/60000 (32%)]\tLoss: 0.034413\n",
      "Train Epoch: 6 [25600/60000 (43%)]\tLoss: 0.023409\n",
      "Train Epoch: 6 [32000/60000 (53%)]\tLoss: 0.030781\n",
      "Train Epoch: 6 [38400/60000 (64%)]\tLoss: 0.005109\n",
      "Train Epoch: 6 [44800/60000 (75%)]\tLoss: 0.020149\n",
      "Train Epoch: 6 [51200/60000 (85%)]\tLoss: 0.058577\n",
      "Train Epoch: 6 [57600/60000 (96%)]\tLoss: 0.070811\n",
      "\n",
      "Test set: Average loss: 0.0008, Accuracy: 9831/10000 (98.31%)\n",
      "\n",
      "Train Epoch: 7 [0/60000 (0%)]\tLoss: 0.026780\n",
      "Train Epoch: 7 [6400/60000 (11%)]\tLoss: 0.014737\n",
      "Train Epoch: 7 [12800/60000 (21%)]\tLoss: 0.159620\n",
      "Train Epoch: 7 [19200/60000 (32%)]\tLoss: 0.086242\n",
      "Train Epoch: 7 [25600/60000 (43%)]\tLoss: 0.217266\n",
      "Train Epoch: 7 [32000/60000 (53%)]\tLoss: 0.024674\n",
      "Train Epoch: 7 [38400/60000 (64%)]\tLoss: 0.129191\n",
      "Train Epoch: 7 [44800/60000 (75%)]\tLoss: 0.128132\n",
      "Train Epoch: 7 [51200/60000 (85%)]\tLoss: 0.007673\n",
      "Train Epoch: 7 [57600/60000 (96%)]\tLoss: 0.021167\n",
      "\n",
      "Test set: Average loss: 0.0008, Accuracy: 9832/10000 (98.32%)\n",
      "\n",
      "Train Epoch: 8 [0/60000 (0%)]\tLoss: 0.167852\n",
      "Train Epoch: 8 [6400/60000 (11%)]\tLoss: 0.079598\n",
      "Train Epoch: 8 [12800/60000 (21%)]\tLoss: 0.004908\n",
      "Train Epoch: 8 [19200/60000 (32%)]\tLoss: 0.028702\n",
      "Train Epoch: 8 [25600/60000 (43%)]\tLoss: 0.081403\n",
      "Train Epoch: 8 [32000/60000 (53%)]\tLoss: 0.006062\n",
      "Train Epoch: 8 [38400/60000 (64%)]\tLoss: 0.064495\n",
      "Train Epoch: 8 [44800/60000 (75%)]\tLoss: 0.040237\n",
      "Train Epoch: 8 [51200/60000 (85%)]\tLoss: 0.028675\n",
      "Train Epoch: 8 [57600/60000 (96%)]\tLoss: 0.094298\n",
      "\n",
      "Test set: Average loss: 0.0008, Accuracy: 9824/10000 (98.24%)\n",
      "\n",
      "Train Epoch: 9 [0/60000 (0%)]\tLoss: 0.099995\n",
      "Train Epoch: 9 [6400/60000 (11%)]\tLoss: 0.039700\n",
      "Train Epoch: 9 [12800/60000 (21%)]\tLoss: 0.020636\n",
      "Train Epoch: 9 [19200/60000 (32%)]\tLoss: 0.060259\n",
      "Train Epoch: 9 [25600/60000 (43%)]\tLoss: 0.163993\n",
      "Train Epoch: 9 [32000/60000 (53%)]\tLoss: 0.013770\n",
      "Train Epoch: 9 [38400/60000 (64%)]\tLoss: 0.026640\n",
      "Train Epoch: 9 [44800/60000 (75%)]\tLoss: 0.006847\n",
      "Train Epoch: 9 [51200/60000 (85%)]\tLoss: 0.015871\n",
      "Train Epoch: 9 [57600/60000 (96%)]\tLoss: 0.017133\n",
      "\n",
      "Test set: Average loss: 0.0007, Accuracy: 9860/10000 (98.60%)\n",
      "\n",
      "Train Epoch: 10 [0/60000 (0%)]\tLoss: 0.004217\n",
      "Train Epoch: 10 [6400/60000 (11%)]\tLoss: 0.029195\n",
      "Train Epoch: 10 [12800/60000 (21%)]\tLoss: 0.084656\n",
      "Train Epoch: 10 [19200/60000 (32%)]\tLoss: 0.075510\n",
      "Train Epoch: 10 [25600/60000 (43%)]\tLoss: 0.011472\n",
      "Train Epoch: 10 [32000/60000 (53%)]\tLoss: 0.048153\n",
      "Train Epoch: 10 [38400/60000 (64%)]\tLoss: 0.019566\n",
      "Train Epoch: 10 [44800/60000 (75%)]\tLoss: 0.006611\n",
      "Train Epoch: 10 [51200/60000 (85%)]\tLoss: 0.016749\n",
      "Train Epoch: 10 [57600/60000 (96%)]\tLoss: 0.049914\n",
      "\n",
      "Test set: Average loss: 0.0008, Accuracy: 9841/10000 (98.41%)\n",
      "\n",
      "Train Epoch: 11 [0/60000 (0%)]\tLoss: 0.073055\n",
      "Train Epoch: 11 [6400/60000 (11%)]\tLoss: 0.007840\n",
      "Train Epoch: 11 [12800/60000 (21%)]\tLoss: 0.010481\n",
      "Train Epoch: 11 [19200/60000 (32%)]\tLoss: 0.049272\n",
      "Train Epoch: 11 [25600/60000 (43%)]\tLoss: 0.009029\n",
      "Train Epoch: 11 [32000/60000 (53%)]\tLoss: 0.016812\n",
      "Train Epoch: 11 [38400/60000 (64%)]\tLoss: 0.048505\n",
      "Train Epoch: 11 [44800/60000 (75%)]\tLoss: 0.003692\n",
      "Train Epoch: 11 [51200/60000 (85%)]\tLoss: 0.045069\n",
      "Train Epoch: 11 [57600/60000 (96%)]\tLoss: 0.002248\n",
      "\n",
      "Test set: Average loss: 0.0009, Accuracy: 9818/10000 (98.18%)\n",
      "\n",
      "Train Epoch: 12 [0/60000 (0%)]\tLoss: 0.004982\n",
      "Train Epoch: 12 [6400/60000 (11%)]\tLoss: 0.029379\n",
      "Train Epoch: 12 [12800/60000 (21%)]\tLoss: 0.005856\n",
      "Train Epoch: 12 [19200/60000 (32%)]\tLoss: 0.062844\n",
      "Train Epoch: 12 [25600/60000 (43%)]\tLoss: 0.013149\n",
      "Train Epoch: 12 [32000/60000 (53%)]\tLoss: 0.009829\n",
      "Train Epoch: 12 [38400/60000 (64%)]\tLoss: 0.014540\n",
      "Train Epoch: 12 [44800/60000 (75%)]\tLoss: 0.100841\n",
      "Train Epoch: 12 [51200/60000 (85%)]\tLoss: 0.003419\n",
      "Train Epoch: 12 [57600/60000 (96%)]\tLoss: 0.026892\n",
      "\n",
      "Test set: Average loss: 0.0008, Accuracy: 9827/10000 (98.27%)\n",
      "\n",
      "Train Epoch: 13 [0/60000 (0%)]\tLoss: 0.051203\n",
      "Train Epoch: 13 [6400/60000 (11%)]\tLoss: 0.003493\n",
      "Train Epoch: 13 [12800/60000 (21%)]\tLoss: 0.035131\n",
      "Train Epoch: 13 [19200/60000 (32%)]\tLoss: 0.017184\n",
      "Train Epoch: 13 [25600/60000 (43%)]\tLoss: 0.096450\n",
      "Train Epoch: 13 [32000/60000 (53%)]\tLoss: 0.049721\n",
      "Train Epoch: 13 [38400/60000 (64%)]\tLoss: 0.037228\n",
      "Train Epoch: 13 [44800/60000 (75%)]\tLoss: 0.008919\n",
      "Train Epoch: 13 [51200/60000 (85%)]\tLoss: 0.020935\n",
      "Train Epoch: 13 [57600/60000 (96%)]\tLoss: 0.023742\n",
      "\n",
      "Test set: Average loss: 0.0006, Accuracy: 9880/10000 (98.80%)\n",
      "\n",
      "Train Epoch: 14 [0/60000 (0%)]\tLoss: 0.078329\n",
      "Train Epoch: 14 [6400/60000 (11%)]\tLoss: 0.081387\n",
      "Train Epoch: 14 [12800/60000 (21%)]\tLoss: 0.001748\n",
      "Train Epoch: 14 [19200/60000 (32%)]\tLoss: 0.032292\n",
      "Train Epoch: 14 [25600/60000 (43%)]\tLoss: 0.004379\n",
      "Train Epoch: 14 [32000/60000 (53%)]\tLoss: 0.008317\n",
      "Train Epoch: 14 [38400/60000 (64%)]\tLoss: 0.000747\n",
      "Train Epoch: 14 [44800/60000 (75%)]\tLoss: 0.023970\n",
      "Train Epoch: 14 [51200/60000 (85%)]\tLoss: 0.001683\n",
      "Train Epoch: 14 [57600/60000 (96%)]\tLoss: 0.004792\n",
      "\n",
      "Test set: Average loss: 0.0007, Accuracy: 9872/10000 (98.72%)\n",
      "\n",
      "Train Epoch: 15 [0/60000 (0%)]\tLoss: 0.039784\n",
      "Train Epoch: 15 [6400/60000 (11%)]\tLoss: 0.019271\n",
      "Train Epoch: 15 [12800/60000 (21%)]\tLoss: 0.020106\n",
      "Train Epoch: 15 [19200/60000 (32%)]\tLoss: 0.066278\n",
      "Train Epoch: 15 [25600/60000 (43%)]\tLoss: 0.003773\n",
      "Train Epoch: 15 [32000/60000 (53%)]\tLoss: 0.050701\n",
      "Train Epoch: 15 [38400/60000 (64%)]\tLoss: 0.002964\n"
     ]
    },
    {
     "name": "stdout",
     "output_type": "stream",
     "text": [
      "Train Epoch: 15 [44800/60000 (75%)]\tLoss: 0.037499\n",
      "Train Epoch: 15 [51200/60000 (85%)]\tLoss: 0.032328\n",
      "Train Epoch: 15 [57600/60000 (96%)]\tLoss: 0.001287\n",
      "\n",
      "Test set: Average loss: 0.0007, Accuracy: 9856/10000 (98.56%)\n",
      "\n",
      "Train Epoch: 16 [0/60000 (0%)]\tLoss: 0.069071\n",
      "Train Epoch: 16 [6400/60000 (11%)]\tLoss: 0.003627\n",
      "Train Epoch: 16 [12800/60000 (21%)]\tLoss: 0.026610\n",
      "Train Epoch: 16 [19200/60000 (32%)]\tLoss: 0.059686\n",
      "Train Epoch: 16 [25600/60000 (43%)]\tLoss: 0.007234\n",
      "Train Epoch: 16 [32000/60000 (53%)]\tLoss: 0.060953\n",
      "Train Epoch: 16 [38400/60000 (64%)]\tLoss: 0.008952\n",
      "Train Epoch: 16 [44800/60000 (75%)]\tLoss: 0.022335\n",
      "Train Epoch: 16 [51200/60000 (85%)]\tLoss: 0.006362\n",
      "Train Epoch: 16 [57600/60000 (96%)]\tLoss: 0.057925\n",
      "\n",
      "Test set: Average loss: 0.0008, Accuracy: 9842/10000 (98.42%)\n",
      "\n",
      "Train Epoch: 17 [0/60000 (0%)]\tLoss: 0.011068\n",
      "Train Epoch: 17 [6400/60000 (11%)]\tLoss: 0.003774\n",
      "Train Epoch: 17 [12800/60000 (21%)]\tLoss: 0.013149\n",
      "Train Epoch: 17 [19200/60000 (32%)]\tLoss: 0.009368\n",
      "Train Epoch: 17 [25600/60000 (43%)]\tLoss: 0.003774\n",
      "Train Epoch: 17 [32000/60000 (53%)]\tLoss: 0.042846\n",
      "Train Epoch: 17 [38400/60000 (64%)]\tLoss: 0.005325\n",
      "Train Epoch: 17 [44800/60000 (75%)]\tLoss: 0.031818\n",
      "Train Epoch: 17 [51200/60000 (85%)]\tLoss: 0.023711\n",
      "Train Epoch: 17 [57600/60000 (96%)]\tLoss: 0.085190\n",
      "\n",
      "Test set: Average loss: 0.0007, Accuracy: 9859/10000 (98.59%)\n",
      "\n",
      "Train Epoch: 18 [0/60000 (0%)]\tLoss: 0.058593\n",
      "Train Epoch: 18 [6400/60000 (11%)]\tLoss: 0.048918\n",
      "Train Epoch: 18 [12800/60000 (21%)]\tLoss: 0.018040\n",
      "Train Epoch: 18 [19200/60000 (32%)]\tLoss: 0.010475\n",
      "Train Epoch: 18 [25600/60000 (43%)]\tLoss: 0.004185\n",
      "Train Epoch: 18 [32000/60000 (53%)]\tLoss: 0.018516\n",
      "Train Epoch: 18 [38400/60000 (64%)]\tLoss: 0.022937\n",
      "Train Epoch: 18 [44800/60000 (75%)]\tLoss: 0.001574\n",
      "Train Epoch: 18 [51200/60000 (85%)]\tLoss: 0.004875\n",
      "Train Epoch: 18 [57600/60000 (96%)]\tLoss: 0.007340\n",
      "\n",
      "Test set: Average loss: 0.0008, Accuracy: 9844/10000 (98.44%)\n",
      "\n",
      "Train Epoch: 19 [0/60000 (0%)]\tLoss: 0.052106\n",
      "Train Epoch: 19 [6400/60000 (11%)]\tLoss: 0.006736\n",
      "Train Epoch: 19 [12800/60000 (21%)]\tLoss: 0.006713\n",
      "Train Epoch: 19 [19200/60000 (32%)]\tLoss: 0.005841\n",
      "Train Epoch: 19 [25600/60000 (43%)]\tLoss: 0.003303\n",
      "Train Epoch: 19 [32000/60000 (53%)]\tLoss: 0.009119\n",
      "Train Epoch: 19 [38400/60000 (64%)]\tLoss: 0.012795\n",
      "Train Epoch: 19 [44800/60000 (75%)]\tLoss: 0.013959\n",
      "Train Epoch: 19 [51200/60000 (85%)]\tLoss: 0.017787\n",
      "Train Epoch: 19 [57600/60000 (96%)]\tLoss: 0.004675\n",
      "\n",
      "Test set: Average loss: 0.0006, Accuracy: 9894/10000 (98.94%)\n",
      "\n",
      "Train Epoch: 20 [0/60000 (0%)]\tLoss: 0.005196\n",
      "Train Epoch: 20 [6400/60000 (11%)]\tLoss: 0.001889\n",
      "Train Epoch: 20 [12800/60000 (21%)]\tLoss: 0.031606\n",
      "Train Epoch: 20 [19200/60000 (32%)]\tLoss: 0.008770\n",
      "Train Epoch: 20 [25600/60000 (43%)]\tLoss: 0.002624\n",
      "Train Epoch: 20 [32000/60000 (53%)]\tLoss: 0.071152\n",
      "Train Epoch: 20 [38400/60000 (64%)]\tLoss: 0.066072\n",
      "Train Epoch: 20 [44800/60000 (75%)]\tLoss: 0.016305\n",
      "Train Epoch: 20 [51200/60000 (85%)]\tLoss: 0.022478\n",
      "Train Epoch: 20 [57600/60000 (96%)]\tLoss: 0.010223\n",
      "\n",
      "Test set: Average loss: 0.0007, Accuracy: 9869/10000 (98.69%)\n",
      "\n",
      "Train Epoch: 21 [0/60000 (0%)]\tLoss: 0.005343\n",
      "Train Epoch: 21 [6400/60000 (11%)]\tLoss: 0.001297\n",
      "Train Epoch: 21 [12800/60000 (21%)]\tLoss: 0.030985\n",
      "Train Epoch: 21 [19200/60000 (32%)]\tLoss: 0.001107\n",
      "Train Epoch: 21 [25600/60000 (43%)]\tLoss: 0.009668\n",
      "Train Epoch: 21 [32000/60000 (53%)]\tLoss: 0.007873\n",
      "Train Epoch: 21 [38400/60000 (64%)]\tLoss: 0.007326\n",
      "Train Epoch: 21 [44800/60000 (75%)]\tLoss: 0.006528\n",
      "Train Epoch: 21 [51200/60000 (85%)]\tLoss: 0.003141\n",
      "Train Epoch: 21 [57600/60000 (96%)]\tLoss: 0.011722\n",
      "\n",
      "Test set: Average loss: 0.0008, Accuracy: 9869/10000 (98.69%)\n",
      "\n",
      "Train Epoch: 22 [0/60000 (0%)]\tLoss: 0.067731\n",
      "Train Epoch: 22 [6400/60000 (11%)]\tLoss: 0.010532\n",
      "Train Epoch: 22 [12800/60000 (21%)]\tLoss: 0.007513\n",
      "Train Epoch: 22 [19200/60000 (32%)]\tLoss: 0.001217\n",
      "Train Epoch: 22 [25600/60000 (43%)]\tLoss: 0.026146\n",
      "Train Epoch: 22 [32000/60000 (53%)]\tLoss: 0.035952\n",
      "Train Epoch: 22 [38400/60000 (64%)]\tLoss: 0.001420\n",
      "Train Epoch: 22 [44800/60000 (75%)]\tLoss: 0.098395\n",
      "Train Epoch: 22 [51200/60000 (85%)]\tLoss: 0.006565\n",
      "Train Epoch: 22 [57600/60000 (96%)]\tLoss: 0.001285\n",
      "\n",
      "Test set: Average loss: 0.0007, Accuracy: 9869/10000 (98.69%)\n",
      "\n",
      "Train Epoch: 23 [0/60000 (0%)]\tLoss: 0.014038\n",
      "Train Epoch: 23 [6400/60000 (11%)]\tLoss: 0.004700\n",
      "Train Epoch: 23 [12800/60000 (21%)]\tLoss: 0.004943\n",
      "Train Epoch: 23 [19200/60000 (32%)]\tLoss: 0.007225\n",
      "Train Epoch: 23 [25600/60000 (43%)]\tLoss: 0.010895\n",
      "Train Epoch: 23 [32000/60000 (53%)]\tLoss: 0.000101\n",
      "Train Epoch: 23 [38400/60000 (64%)]\tLoss: 0.002264\n",
      "Train Epoch: 23 [44800/60000 (75%)]\tLoss: 0.032436\n",
      "Train Epoch: 23 [51200/60000 (85%)]\tLoss: 0.023748\n",
      "Train Epoch: 23 [57600/60000 (96%)]\tLoss: 0.003248\n",
      "\n",
      "Test set: Average loss: 0.0008, Accuracy: 9871/10000 (98.71%)\n",
      "\n",
      "Train Epoch: 24 [0/60000 (0%)]\tLoss: 0.004004\n",
      "Train Epoch: 24 [6400/60000 (11%)]\tLoss: 0.002580\n",
      "Train Epoch: 24 [12800/60000 (21%)]\tLoss: 0.002919\n",
      "Train Epoch: 24 [19200/60000 (32%)]\tLoss: 0.045163\n",
      "Train Epoch: 24 [25600/60000 (43%)]\tLoss: 0.001850\n",
      "Train Epoch: 24 [32000/60000 (53%)]\tLoss: 0.011828\n",
      "Train Epoch: 24 [38400/60000 (64%)]\tLoss: 0.041231\n",
      "Train Epoch: 24 [44800/60000 (75%)]\tLoss: 0.008793\n",
      "Train Epoch: 24 [51200/60000 (85%)]\tLoss: 0.004097\n",
      "Train Epoch: 24 [57600/60000 (96%)]\tLoss: 0.005259\n",
      "\n",
      "Test set: Average loss: 0.0007, Accuracy: 9880/10000 (98.80%)\n",
      "\n",
      "Train Epoch: 25 [0/60000 (0%)]\tLoss: 0.004914\n",
      "Train Epoch: 25 [6400/60000 (11%)]\tLoss: 0.002422\n",
      "Train Epoch: 25 [12800/60000 (21%)]\tLoss: 0.010315\n",
      "Train Epoch: 25 [19200/60000 (32%)]\tLoss: 0.007166\n",
      "Train Epoch: 25 [25600/60000 (43%)]\tLoss: 0.006435\n",
      "Train Epoch: 25 [32000/60000 (53%)]\tLoss: 0.024714\n",
      "Train Epoch: 25 [38400/60000 (64%)]\tLoss: 0.002647\n",
      "Train Epoch: 25 [44800/60000 (75%)]\tLoss: 0.002734\n",
      "Train Epoch: 25 [51200/60000 (85%)]\tLoss: 0.084114\n",
      "Train Epoch: 25 [57600/60000 (96%)]\tLoss: 0.055552\n",
      "\n",
      "Test set: Average loss: 0.0008, Accuracy: 9871/10000 (98.71%)\n",
      "\n",
      "Train Epoch: 26 [0/60000 (0%)]\tLoss: 0.008406\n",
      "Train Epoch: 26 [6400/60000 (11%)]\tLoss: 0.007025\n",
      "Train Epoch: 26 [12800/60000 (21%)]\tLoss: 0.008141\n",
      "Train Epoch: 26 [19200/60000 (32%)]\tLoss: 0.000198\n",
      "Train Epoch: 26 [25600/60000 (43%)]\tLoss: 0.006900\n",
      "Train Epoch: 26 [32000/60000 (53%)]\tLoss: 0.000042\n",
      "Train Epoch: 26 [38400/60000 (64%)]\tLoss: 0.001334\n",
      "Train Epoch: 26 [44800/60000 (75%)]\tLoss: 0.078393\n",
      "Train Epoch: 26 [51200/60000 (85%)]\tLoss: 0.020972\n",
      "Train Epoch: 26 [57600/60000 (96%)]\tLoss: 0.031681\n",
      "\n",
      "Test set: Average loss: 0.0007, Accuracy: 9891/10000 (98.91%)\n",
      "\n",
      "Train Epoch: 27 [0/60000 (0%)]\tLoss: 0.010420\n",
      "Train Epoch: 27 [6400/60000 (11%)]\tLoss: 0.024369\n",
      "Train Epoch: 27 [12800/60000 (21%)]\tLoss: 0.005410\n",
      "Train Epoch: 27 [19200/60000 (32%)]\tLoss: 0.007136\n",
      "Train Epoch: 27 [25600/60000 (43%)]\tLoss: 0.014317\n",
      "Train Epoch: 27 [32000/60000 (53%)]\tLoss: 0.005395\n",
      "Train Epoch: 27 [38400/60000 (64%)]\tLoss: 0.019786\n",
      "Train Epoch: 27 [44800/60000 (75%)]\tLoss: 0.006482\n",
      "Train Epoch: 27 [51200/60000 (85%)]\tLoss: 0.010001\n",
      "Train Epoch: 27 [57600/60000 (96%)]\tLoss: 0.064455\n",
      "\n",
      "Test set: Average loss: 0.0008, Accuracy: 9873/10000 (98.73%)\n",
      "\n",
      "Train Epoch: 28 [0/60000 (0%)]\tLoss: 0.003007\n",
      "Train Epoch: 28 [6400/60000 (11%)]\tLoss: 0.001531\n",
      "Train Epoch: 28 [12800/60000 (21%)]\tLoss: 0.008132\n",
      "Train Epoch: 28 [19200/60000 (32%)]\tLoss: 0.007360\n",
      "Train Epoch: 28 [25600/60000 (43%)]\tLoss: 0.000971\n",
      "Train Epoch: 28 [32000/60000 (53%)]\tLoss: 0.015109\n",
      "Train Epoch: 28 [38400/60000 (64%)]\tLoss: 0.019912\n",
      "Train Epoch: 28 [44800/60000 (75%)]\tLoss: 0.009264\n",
      "Train Epoch: 28 [51200/60000 (85%)]\tLoss: 0.005642\n",
      "Train Epoch: 28 [57600/60000 (96%)]\tLoss: 0.001461\n",
      "\n",
      "Test set: Average loss: 0.0007, Accuracy: 9896/10000 (98.96%)\n",
      "\n",
      "Train Epoch: 29 [0/60000 (0%)]\tLoss: 0.001129\n",
      "Train Epoch: 29 [6400/60000 (11%)]\tLoss: 0.000707\n",
      "Train Epoch: 29 [12800/60000 (21%)]\tLoss: 0.031256\n",
      "Train Epoch: 29 [19200/60000 (32%)]\tLoss: 0.001607\n",
      "Train Epoch: 29 [25600/60000 (43%)]\tLoss: 0.000949\n",
      "Train Epoch: 29 [32000/60000 (53%)]\tLoss: 0.000385\n",
      "Train Epoch: 29 [38400/60000 (64%)]\tLoss: 0.027308\n",
      "Train Epoch: 29 [44800/60000 (75%)]\tLoss: 0.003965\n",
      "Train Epoch: 29 [51200/60000 (85%)]\tLoss: 0.015230\n",
      "Train Epoch: 29 [57600/60000 (96%)]\tLoss: 0.002338\n",
      "\n",
      "Test set: Average loss: 0.0009, Accuracy: 9872/10000 (98.72%)\n",
      "\n",
      "Train Epoch: 30 [0/60000 (0%)]\tLoss: 0.000970\n"
     ]
    },
    {
     "name": "stdout",
     "output_type": "stream",
     "text": [
      "Train Epoch: 30 [6400/60000 (11%)]\tLoss: 0.010184\n",
      "Train Epoch: 30 [12800/60000 (21%)]\tLoss: 0.000256\n",
      "Train Epoch: 30 [19200/60000 (32%)]\tLoss: 0.001517\n",
      "Train Epoch: 30 [25600/60000 (43%)]\tLoss: 0.000938\n",
      "Train Epoch: 30 [32000/60000 (53%)]\tLoss: 0.029927\n",
      "Train Epoch: 30 [38400/60000 (64%)]\tLoss: 0.002078\n",
      "Train Epoch: 30 [44800/60000 (75%)]\tLoss: 0.000121\n",
      "Train Epoch: 30 [51200/60000 (85%)]\tLoss: 0.002434\n",
      "Train Epoch: 30 [57600/60000 (96%)]\tLoss: 0.003023\n",
      "\n",
      "Test set: Average loss: 0.0010, Accuracy: 9849/10000 (98.49%)\n",
      "\n",
      "Train Epoch: 31 [0/60000 (0%)]\tLoss: 0.005464\n",
      "Train Epoch: 31 [6400/60000 (11%)]\tLoss: 0.024799\n",
      "Train Epoch: 31 [12800/60000 (21%)]\tLoss: 0.000264\n",
      "Train Epoch: 31 [19200/60000 (32%)]\tLoss: 0.003900\n",
      "Train Epoch: 31 [25600/60000 (43%)]\tLoss: 0.014097\n",
      "Train Epoch: 31 [32000/60000 (53%)]\tLoss: 0.013981\n",
      "Train Epoch: 31 [38400/60000 (64%)]\tLoss: 0.012970\n",
      "Train Epoch: 31 [44800/60000 (75%)]\tLoss: 0.003326\n",
      "Train Epoch: 31 [51200/60000 (85%)]\tLoss: 0.041498\n",
      "Train Epoch: 31 [57600/60000 (96%)]\tLoss: 0.044131\n",
      "\n",
      "Test set: Average loss: 0.0008, Accuracy: 9878/10000 (98.78%)\n",
      "\n",
      "Train Epoch: 32 [0/60000 (0%)]\tLoss: 0.002477\n",
      "Train Epoch: 32 [6400/60000 (11%)]\tLoss: 0.003437\n",
      "Train Epoch: 32 [12800/60000 (21%)]\tLoss: 0.000170\n",
      "Train Epoch: 32 [19200/60000 (32%)]\tLoss: 0.001441\n",
      "Train Epoch: 32 [25600/60000 (43%)]\tLoss: 0.010901\n",
      "Train Epoch: 32 [32000/60000 (53%)]\tLoss: 0.000393\n",
      "Train Epoch: 32 [38400/60000 (64%)]\tLoss: 0.009191\n",
      "Train Epoch: 32 [44800/60000 (75%)]\tLoss: 0.000949\n",
      "Train Epoch: 32 [51200/60000 (85%)]\tLoss: 0.005455\n",
      "Train Epoch: 32 [57600/60000 (96%)]\tLoss: 0.016443\n",
      "\n",
      "Test set: Average loss: 0.0008, Accuracy: 9872/10000 (98.72%)\n",
      "\n"
     ]
    }
   ],
   "source": [
    "for epoch in range(32):\n",
    "    train(epoch + 1)\n",
    "    test()"
   ]
  },
  {
   "cell_type": "code",
   "execution_count": 69,
   "metadata": {},
   "outputs": [],
   "source": [
    "def print_confusion_matrix(loader):\n",
    "    model.eval()\n",
    "\n",
    "    confusion_matrix = torch.zeros(10, 10, dtype=torch.int)\n",
    "    for data, target in loader:\n",
    "        output = model(data)\n",
    "        _, preds = torch.max(output, 1)\n",
    "        for t, p in zip(target.view(-1), preds.view(-1)):\n",
    "                confusion_matrix[t.long(), p.long()] += 1\n",
    "    print(confusion_matrix)\n",
    "    accuracy = confusion_matrix.diagonal().sum()/confusion_matrix.sum()\n",
    "    print(f\"Accuracy = {100*accuracy:.2f}%\")"
   ]
  },
  {
   "cell_type": "code",
   "execution_count": 70,
   "metadata": {},
   "outputs": [
    {
     "name": "stdout",
     "output_type": "stream",
     "text": [
      "tensor([[ 973,    0,    1,    0,    0,    0,    1,    3,    1,    1],\n",
      "        [   0, 1130,    2,    0,    0,    0,    1,    2,    0,    0],\n",
      "        [   2,    0, 1024,    0,    1,    0,    0,    4,    1,    0],\n",
      "        [   0,    0,    7,  992,    0,    6,    0,    5,    0,    0],\n",
      "        [   0,    0,    0,    0,  973,    0,    1,    1,    1,    6],\n",
      "        [   2,    0,    0,    5,    0,  878,    2,    0,    1,    4],\n",
      "        [   2,    2,    0,    1,    0,    3,  948,    0,    0,    2],\n",
      "        [   0,    2,    4,    2,    0,    0,    0, 1013,    0,    7],\n",
      "        [   3,    0,    4,    3,    1,    2,    1,    4,  944,   12],\n",
      "        [   1,    0,    0,    0,    1,    4,    0,    4,    2,  997]],\n",
      "       dtype=torch.int32)\n",
      "Accuracy = 98.72%\n"
     ]
    }
   ],
   "source": [
    "print_confusion_matrix(test_loader)"
   ]
  },
  {
   "cell_type": "code",
   "execution_count": null,
   "metadata": {},
   "outputs": [],
   "source": []
  },
  {
   "cell_type": "code",
   "execution_count": null,
   "metadata": {},
   "outputs": [],
   "source": []
  },
  {
   "cell_type": "code",
   "execution_count": null,
   "metadata": {},
   "outputs": [],
   "source": []
  }
 ],
 "metadata": {
  "colab": {
   "name": "17-1. MLP - MNIST.ipynb",
   "provenance": []
  },
  "kernelspec": {
   "display_name": "Python 3",
   "language": "python",
   "name": "python3"
  },
  "language_info": {
   "codemirror_mode": {
    "name": "ipython",
    "version": 3
   },
   "file_extension": ".py",
   "mimetype": "text/x-python",
   "name": "python",
   "nbconvert_exporter": "python",
   "pygments_lexer": "ipython3",
   "version": "3.11.0rc1"
  }
 },
 "nbformat": 4,
 "nbformat_minor": 1
}
